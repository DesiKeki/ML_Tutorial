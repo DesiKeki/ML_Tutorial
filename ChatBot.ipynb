{
  "nbformat": 4,
  "nbformat_minor": 0,
  "metadata": {
    "colab": {
      "name": "ChatBot.ipynb",
      "provenance": [],
      "include_colab_link": true
    },
    "kernelspec": {
      "name": "python3",
      "display_name": "Python 3"
    }
  },
  "cells": [
    {
      "cell_type": "markdown",
      "metadata": {
        "id": "view-in-github",
        "colab_type": "text"
      },
      "source": [
        "<a href=\"https://colab.research.google.com/github/DesiKeki/ML_Tutorial/blob/master/ChatBot.ipynb\" target=\"_parent\"><img src=\"https://colab.research.google.com/assets/colab-badge.svg\" alt=\"Open In Colab\"/></a>"
      ]
    },
    {
      "cell_type": "code",
      "metadata": {
        "id": "E6lcu7PMpkgz",
        "colab_type": "code",
        "outputId": "09fc9460-2411-4292-d6d1-ba5cfb7fb9e9",
        "colab": {
          "base_uri": "https://localhost:8080/",
          "height": 292
        }
      },
      "source": [
        "!pip install spacy"
      ],
      "execution_count": 1,
      "outputs": [
        {
          "output_type": "stream",
          "text": [
            "Requirement already satisfied: spacy in /usr/local/lib/python3.6/dist-packages (2.1.9)\n",
            "Requirement already satisfied: cymem<2.1.0,>=2.0.2 in /usr/local/lib/python3.6/dist-packages (from spacy) (2.0.3)\n",
            "Requirement already satisfied: preshed<2.1.0,>=2.0.1 in /usr/local/lib/python3.6/dist-packages (from spacy) (2.0.1)\n",
            "Requirement already satisfied: plac<1.0.0,>=0.9.6 in /usr/local/lib/python3.6/dist-packages (from spacy) (0.9.6)\n",
            "Requirement already satisfied: requests<3.0.0,>=2.13.0 in /usr/local/lib/python3.6/dist-packages (from spacy) (2.21.0)\n",
            "Requirement already satisfied: srsly<1.1.0,>=0.0.6 in /usr/local/lib/python3.6/dist-packages (from spacy) (1.0.1)\n",
            "Requirement already satisfied: murmurhash<1.1.0,>=0.28.0 in /usr/local/lib/python3.6/dist-packages (from spacy) (1.0.2)\n",
            "Requirement already satisfied: blis<0.3.0,>=0.2.2 in /usr/local/lib/python3.6/dist-packages (from spacy) (0.2.4)\n",
            "Requirement already satisfied: numpy>=1.15.0 in /usr/local/lib/python3.6/dist-packages (from spacy) (1.17.5)\n",
            "Requirement already satisfied: wasabi<1.1.0,>=0.2.0 in /usr/local/lib/python3.6/dist-packages (from spacy) (0.6.0)\n",
            "Requirement already satisfied: thinc<7.1.0,>=7.0.8 in /usr/local/lib/python3.6/dist-packages (from spacy) (7.0.8)\n",
            "Requirement already satisfied: certifi>=2017.4.17 in /usr/local/lib/python3.6/dist-packages (from requests<3.0.0,>=2.13.0->spacy) (2019.11.28)\n",
            "Requirement already satisfied: chardet<3.1.0,>=3.0.2 in /usr/local/lib/python3.6/dist-packages (from requests<3.0.0,>=2.13.0->spacy) (3.0.4)\n",
            "Requirement already satisfied: urllib3<1.25,>=1.21.1 in /usr/local/lib/python3.6/dist-packages (from requests<3.0.0,>=2.13.0->spacy) (1.24.3)\n",
            "Requirement already satisfied: idna<2.9,>=2.5 in /usr/local/lib/python3.6/dist-packages (from requests<3.0.0,>=2.13.0->spacy) (2.8)\n",
            "Requirement already satisfied: tqdm<5.0.0,>=4.10.0 in /usr/local/lib/python3.6/dist-packages (from thinc<7.1.0,>=7.0.8->spacy) (4.28.1)\n"
          ],
          "name": "stdout"
        }
      ]
    },
    {
      "cell_type": "code",
      "metadata": {
        "id": "_OhIXCMLp1xG",
        "colab_type": "code",
        "colab": {}
      },
      "source": [
        "import spacy # NLU library\n",
        "#import en_core_web_lg # Large SpaCy model\n",
        "import en_core_web_sm # Small SpaCy model for English language\n",
        "import numpy as np\n",
        "\n",
        "from collections import defaultdict\n",
        "from sklearn.svm import SVC # Support Vector Classification model"
      ],
      "execution_count": 0,
      "outputs": []
    },
    {
      "cell_type": "code",
      "metadata": {
        "id": "cDZwO28nqLC5",
        "colab_type": "code",
        "colab": {}
      },
      "source": [
        "nlp = en_core_web_sm.load()"
      ],
      "execution_count": 0,
      "outputs": []
    },
    {
      "cell_type": "code",
      "metadata": {
        "id": "QS-7O9SQqVtL",
        "colab_type": "code",
        "colab": {}
      },
      "source": [
        "# Create training data\n",
        "training_sentences = [\n",
        "    \"When is the next workshop scheduled?\",\n",
        "    \"Can we have another training session?\",\n",
        "    \"I will like to attend one more lab session.\",\n",
        "    \"Do you have any more trainings in pipeline?\",\n",
        "    \"I would like to see more trainings on AI.\", \n",
        "    \"How can you help me?\",\n",
        "    \"What can you do for me?\",\n",
        "    \"What are you trained for?\",\n",
        "    \"What questions can you answer?\",\n",
        "    \"Can you please help me?\",\n",
        "    \"What is your name?\",\n",
        "    \"Your name please?\",\n",
        "    \"Do you have a name?\",\n",
        "    \"What do people call you?\",\n",
        "    \"What name should I call you with?\",\n",
        "    \"How may I call you?\"\n",
        "]\n",
        "\n",
        "training_intents = [\n",
        "    \"training\",\n",
        "    \"training\",\n",
        "    \"training\",\n",
        "    \"training\",\n",
        "    \"training\",\n",
        "    \"help\",\n",
        "    \"help\",\n",
        "    \"help\",\n",
        "    \"help\",\n",
        "    \"help\",\n",
        "    \"bot_name\",  \n",
        "    \"bot_name\",  \n",
        "    \"bot_name\",  \n",
        "    \"bot_name\",  \n",
        "    \"bot_name\",  \n",
        "    \"bot_name\"\n",
        "]\n",
        "\n",
        "responses_ml = {\n",
        "    \"training\":\"Next session will be scheduled soon. Stay tuned!\",\n",
        "    \"help\": \"I am still learning. You can ask me about my name and schedule of more such trainings.\",\n",
        "    \"bot_name\" : \"My name is Bot, Vivek's Chatbot.\",\n",
        "    \"default\":\"I couldn't understand your question, can you please rephrase?\"\n",
        "}"
      ],
      "execution_count": 0,
      "outputs": []
    },
    {
      "cell_type": "code",
      "metadata": {
        "id": "0eGKrpM5qaxM",
        "colab_type": "code",
        "colab": {}
      },
      "source": [
        "output_format = \"USR: {input}\\nBOT: {output}\\n\" + \"_\"*50"
      ],
      "execution_count": 0,
      "outputs": []
    },
    {
      "cell_type": "code",
      "metadata": {
        "id": "8toMVchpra2l",
        "colab_type": "code",
        "colab": {}
      },
      "source": [
        "# Initialize the array with zeros: X\n",
        "X_train = np.zeros((len(training_sentences), 96))\n",
        "for i, sentence in enumerate(training_sentences):\n",
        "  # Pass each each sentence to the nlp object to create a document\n",
        "    doc = nlp(sentence)\n",
        "    X_train[i,:] = doc.vector\n",
        "#print(X_train) "
      ],
      "execution_count": 0,
      "outputs": []
    },
    {
      "cell_type": "code",
      "metadata": {
        "id": "MEk3XJZGqkN-",
        "colab_type": "code",
        "outputId": "ed63ab12-e714-49c1-f087-3354fb4fdb43",
        "colab": {
          "base_uri": "https://localhost:8080/",
          "height": 86
        }
      },
      "source": [
        "# Create a support vector classifier\n",
        "clf = SVC(C=500, gamma=\"scale\", probability=True)\n",
        "\n",
        "# Fit the classifier using the training data\n",
        "clf.fit(X_train, training_intents)"
      ],
      "execution_count": 7,
      "outputs": [
        {
          "output_type": "execute_result",
          "data": {
            "text/plain": [
              "SVC(C=500, break_ties=False, cache_size=200, class_weight=None, coef0=0.0,\n",
              "    decision_function_shape='ovr', degree=3, gamma='scale', kernel='rbf',\n",
              "    max_iter=-1, probability=True, random_state=None, shrinking=True, tol=0.001,\n",
              "    verbose=False)"
            ]
          },
          "metadata": {
            "tags": []
          },
          "execution_count": 7
        }
      ]
    },
    {
      "cell_type": "code",
      "metadata": {
        "id": "qLJ8x23Nqwwk",
        "colab_type": "code",
        "colab": {}
      },
      "source": [
        "def get_intent_ml(text):\n",
        "    doc = nlp(text)\n",
        "    return(clf.predict([doc.vector])[0])\n",
        "\n",
        "def response_ml(text):\n",
        "    response = responses_ml.get(get_intent_ml(text), responses_ml[\"default\"])\n",
        "    return(output_format.format(input=text, output=response))"
      ],
      "execution_count": 0,
      "outputs": []
    },
    {
      "cell_type": "code",
      "metadata": {
        "id": "9cG5rJevtkQj",
        "colab_type": "code",
        "colab": {}
      },
      "source": [
        "def BOT():\n",
        "    print(\"Hi, How can I help you?\")\n",
        "    usr_ip = \"Start\"\n",
        "    while 1:\n",
        "        usr_ip = input()\n",
        "        if (usr_ip == \"exit\") or (usr_ip == \"bye\") or (usr_ip == \"quit\"):\n",
        "            response = \"Thanks for chatting. :)\"\n",
        "            print(output_format.format(input=usr_ip, output=response))\n",
        "            break\n",
        "        print(response_ml(usr_ip))"
      ],
      "execution_count": 0,
      "outputs": []
    },
    {
      "cell_type": "code",
      "metadata": {
        "id": "8dSEWll2tlgW",
        "colab_type": "code",
        "outputId": "2e437680-b0d5-4982-e251-806dd305b1e3",
        "colab": {
          "base_uri": "https://localhost:8080/",
          "height": 516
        }
      },
      "source": [
        "BOT()"
      ],
      "execution_count": 13,
      "outputs": [
        {
          "output_type": "stream",
          "text": [
            "Hi, How can I help you?\n",
            "What can you help me with?\n",
            "USR: What can you help me with?\n",
            "BOT: I am still learning. You can ask me about my name and schedule of more such trainings.\n",
            "__________________________________________________\n",
            "So tell me your name then...\n",
            "USR: So tell me your name then...\n",
            "BOT: My name is Bot, Vivek's Chatbot.\n",
            "__________________________________________________\n",
            "Is this workshop happening anytime soon again?\n",
            "USR: Is this workshop happening anytime soon again?\n",
            "BOT: Next session will be scheduled soon. Stay tuned!\n",
            "__________________________________________________\n",
            "Please help me\n",
            "USR: Please help me\n",
            "BOT: I am still learning. You can ask me about my name and schedule of more such trainings.\n",
            "__________________________________________________\n",
            "I need help\n",
            "USR: I need help\n",
            "BOT: My name is Bot, Vivek's Chatbot.\n",
            "__________________________________________________\n",
            "I want to know more about this training. When is it happening again?\n",
            "USR: I want to know more about this training. When is it happening again?\n",
            "BOT: Next session will be scheduled soon. Stay tuned!\n",
            "__________________________________________________\n",
            "exit\n",
            "USR: exit\n",
            "BOT: Thanks for chatting. :)\n",
            "__________________________________________________\n"
          ],
          "name": "stdout"
        }
      ]
    },
    {
      "cell_type": "code",
      "metadata": {
        "id": "xXqsYyJ-uf_I",
        "colab_type": "code",
        "colab": {}
      },
      "source": [
        ""
      ],
      "execution_count": 0,
      "outputs": []
    }
  ]
}