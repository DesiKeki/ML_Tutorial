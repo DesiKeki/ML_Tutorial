{
  "nbformat": 4,
  "nbformat_minor": 0,
  "metadata": {
    "colab": {
      "name": "ChatBot.ipynb",
      "provenance": [],
      "include_colab_link": true
    },
    "kernelspec": {
      "name": "python3",
      "display_name": "Python 3"
    }
  },
  "cells": [
    {
      "cell_type": "markdown",
      "metadata": {
        "id": "view-in-github",
        "colab_type": "text"
      },
      "source": [
        "<a href=\"https://colab.research.google.com/github/DesiKeki/ML_Tutorial/blob/master/ChatBot.ipynb\" target=\"_parent\"><img src=\"https://colab.research.google.com/assets/colab-badge.svg\" alt=\"Open In Colab\"/></a>"
      ]
    },
    {
      "cell_type": "code",
      "metadata": {
        "id": "E6lcu7PMpkgz",
        "colab_type": "code",
        "colab": {
          "base_uri": "https://localhost:8080/",
          "height": 292
        },
        "outputId": "8bac6721-e9e0-4fcd-9b1a-c020b3a3d028"
      },
      "source": [
        "!pip install spacy"
      ],
      "execution_count": 2,
      "outputs": [
        {
          "output_type": "stream",
          "text": [
            "Requirement already satisfied: spacy in /usr/local/lib/python3.6/dist-packages (2.1.9)\n",
            "Requirement already satisfied: preshed<2.1.0,>=2.0.1 in /usr/local/lib/python3.6/dist-packages (from spacy) (2.0.1)\n",
            "Requirement already satisfied: requests<3.0.0,>=2.13.0 in /usr/local/lib/python3.6/dist-packages (from spacy) (2.21.0)\n",
            "Requirement already satisfied: thinc<7.1.0,>=7.0.8 in /usr/local/lib/python3.6/dist-packages (from spacy) (7.0.8)\n",
            "Requirement already satisfied: plac<1.0.0,>=0.9.6 in /usr/local/lib/python3.6/dist-packages (from spacy) (0.9.6)\n",
            "Requirement already satisfied: wasabi<1.1.0,>=0.2.0 in /usr/local/lib/python3.6/dist-packages (from spacy) (0.4.2)\n",
            "Requirement already satisfied: blis<0.3.0,>=0.2.2 in /usr/local/lib/python3.6/dist-packages (from spacy) (0.2.4)\n",
            "Requirement already satisfied: cymem<2.1.0,>=2.0.2 in /usr/local/lib/python3.6/dist-packages (from spacy) (2.0.3)\n",
            "Requirement already satisfied: numpy>=1.15.0 in /usr/local/lib/python3.6/dist-packages (from spacy) (1.17.4)\n",
            "Requirement already satisfied: srsly<1.1.0,>=0.0.6 in /usr/local/lib/python3.6/dist-packages (from spacy) (0.2.0)\n",
            "Requirement already satisfied: murmurhash<1.1.0,>=0.28.0 in /usr/local/lib/python3.6/dist-packages (from spacy) (1.0.2)\n",
            "Requirement already satisfied: idna<2.9,>=2.5 in /usr/local/lib/python3.6/dist-packages (from requests<3.0.0,>=2.13.0->spacy) (2.8)\n",
            "Requirement already satisfied: urllib3<1.25,>=1.21.1 in /usr/local/lib/python3.6/dist-packages (from requests<3.0.0,>=2.13.0->spacy) (1.24.3)\n",
            "Requirement already satisfied: certifi>=2017.4.17 in /usr/local/lib/python3.6/dist-packages (from requests<3.0.0,>=2.13.0->spacy) (2019.11.28)\n",
            "Requirement already satisfied: chardet<3.1.0,>=3.0.2 in /usr/local/lib/python3.6/dist-packages (from requests<3.0.0,>=2.13.0->spacy) (3.0.4)\n",
            "Requirement already satisfied: tqdm<5.0.0,>=4.10.0 in /usr/local/lib/python3.6/dist-packages (from thinc<7.1.0,>=7.0.8->spacy) (4.28.1)\n"
          ],
          "name": "stdout"
        }
      ]
    },
    {
      "cell_type": "code",
      "metadata": {
        "id": "_OhIXCMLp1xG",
        "colab_type": "code",
        "colab": {}
      },
      "source": [
        "import spacy # NLU library\n",
        "import en_core_web_sm # Small SpaCy model for English language\n",
        "import numpy as np\n",
        "\n",
        "from collections import defaultdict\n",
        "from sklearn.svm import SVC # Support Vector Classification model"
      ],
      "execution_count": 0,
      "outputs": []
    },
    {
      "cell_type": "code",
      "metadata": {
        "id": "cDZwO28nqLC5",
        "colab_type": "code",
        "colab": {}
      },
      "source": [
        "nlp = en_core_web_sm.load()"
      ],
      "execution_count": 0,
      "outputs": []
    },
    {
      "cell_type": "code",
      "metadata": {
        "id": "QS-7O9SQqVtL",
        "colab_type": "code",
        "colab": {}
      },
      "source": [
        "# Create training data\n",
        "training_sentences = [\n",
        "    \"What would you like to have for dinner?\",\n",
        "    \"What do you want to eat tonight?\",\n",
        "    \"I don't know what to cook tonight.\",\n",
        "    \"Do you have any cravings?\",\n",
        "    \"Can I get you something to eat?\", \n",
        "    \"What time will you be home?\",\n",
        "    \"How much longer will you be?\",\n",
        "    \"When can we expect you to get here?\",\n",
        "    \"What's taking you so long?\",\n",
        "    \"At what hour will you be here?\",\n",
        "    \"What is your name?\",\n",
        "    \"Your name please?\",\n",
        "    \"Do you have a name?\",\n",
        "    \"What do people call you?\",\n",
        "    \"What name should I call you with?\",\n",
        "    \"How may I call you?\"\n",
        "]\n",
        "\n",
        "training_intents = [\n",
        "    \"dinner_preference\",\n",
        "    \"dinner_preference\",\n",
        "    \"dinner_preference\",\n",
        "    \"dinner_preference\",\n",
        "    \"dinner_preference\",\n",
        "    \"arrival_time\",\n",
        "    \"arrival_time\",\n",
        "    \"arrival_time\",\n",
        "    \"arrival_time\",\n",
        "    \"arrival_time\",\n",
        "    \"bot_name\",  \n",
        "    \"bot_name\",  \n",
        "    \"bot_name\",  \n",
        "    \"bot_name\",  \n",
        "    \"bot_name\",  \n",
        "    \"bot_name\"\n",
        "]\n",
        "\n",
        "responses_ml = {\n",
        "    \"dinner_preference\":\"Pasta with salmon and red pesto please!\",\n",
        "    \"arrival_time\": \"I will be home around 6 pm.\",\n",
        "    \"bot_name\" : \"My name is Yubo, Yugasa's Chatbot\",\n",
        "    \"default\":\"I couldn't understand your question, can you please rephrase?\"\n",
        "}"
      ],
      "execution_count": 0,
      "outputs": []
    },
    {
      "cell_type": "code",
      "metadata": {
        "id": "0eGKrpM5qaxM",
        "colab_type": "code",
        "colab": {}
      },
      "source": [
        "output_format = \"USR: {input}\\nBOT: {output}\\n\" + \"_\"*50"
      ],
      "execution_count": 0,
      "outputs": []
    },
    {
      "cell_type": "code",
      "metadata": {
        "id": "8toMVchpra2l",
        "colab_type": "code",
        "colab": {}
      },
      "source": [
        "# Initialize the array with zeros: X\n",
        "X_train = np.zeros((len(training_sentences), 96))\n",
        "for i, sentence in enumerate(training_sentences):\n",
        "  # Pass each each sentence to the nlp object to create a document\n",
        "    doc = nlp(sentence)\n",
        "    X_train[i,:] = doc.vector\n",
        "#print(X_train) "
      ],
      "execution_count": 0,
      "outputs": []
    },
    {
      "cell_type": "code",
      "metadata": {
        "id": "MEk3XJZGqkN-",
        "colab_type": "code",
        "colab": {
          "base_uri": "https://localhost:8080/",
          "height": 86
        },
        "outputId": "57ad007c-94e5-4a6b-ee9b-7cf3419c0558"
      },
      "source": [
        "# Create a support vector classifier\n",
        "clf = SVC(C=500, gamma=\"scale\", probability=True)\n",
        "\n",
        "# Fit the classifier using the training data\n",
        "clf.fit(X_train, training_intents)"
      ],
      "execution_count": 31,
      "outputs": [
        {
          "output_type": "execute_result",
          "data": {
            "text/plain": [
              "SVC(C=500, cache_size=200, class_weight=None, coef0=0.0,\n",
              "    decision_function_shape='ovr', degree=3, gamma='scale', kernel='rbf',\n",
              "    max_iter=-1, probability=True, random_state=None, shrinking=True, tol=0.001,\n",
              "    verbose=False)"
            ]
          },
          "metadata": {
            "tags": []
          },
          "execution_count": 31
        }
      ]
    },
    {
      "cell_type": "code",
      "metadata": {
        "id": "qLJ8x23Nqwwk",
        "colab_type": "code",
        "colab": {}
      },
      "source": [
        "def get_intent_ml(text):\n",
        "    doc = nlp(text)\n",
        "    return(clf.predict([doc.vector])[0])\n",
        "\n",
        "def response_ml(text):\n",
        "    response = responses_ml.get(get_intent_ml(text), responses_ml[\"default\"])\n",
        "    return(output_format.format(input=text, output=response))"
      ],
      "execution_count": 0,
      "outputs": []
    },
    {
      "cell_type": "code",
      "metadata": {
        "id": "9cG5rJevtkQj",
        "colab_type": "code",
        "colab": {}
      },
      "source": [
        "def BOT():\n",
        "    print(\"Hi, How can I help you?\")\n",
        "    usr_ip = \"Start\"\n",
        "    while 1:\n",
        "        usr_ip = input()\n",
        "        if (usr_ip == \"exit\") or (usr_ip == \"bye\") or (usr_ip == \"quit\"):\n",
        "            response = \"Thanks for chatting. :)\"\n",
        "            print(output_format.format(input=usr_ip, output=response))\n",
        "            break\n",
        "        print(response_ml(usr_ip))"
      ],
      "execution_count": 0,
      "outputs": []
    },
    {
      "cell_type": "code",
      "metadata": {
        "id": "8dSEWll2tlgW",
        "colab_type": "code",
        "colab": {
          "base_uri": "https://localhost:8080/",
          "height": 585
        },
        "outputId": "8c9400aa-114f-49f1-9a52-c7fc0ed47ae6"
      },
      "source": [
        "BOT()"
      ],
      "execution_count": 34,
      "outputs": [
        {
          "output_type": "stream",
          "text": [
            "Hi, How can I help you?\n",
            "Whats your name?\n",
            "USR: Whats your name?\n",
            "BOT: My name is Yubo, Yugasa's Chatbot\n",
            "__________________________________________________\n",
            "How may I address you?\n",
            "USR: How may I address you?\n",
            "BOT: My name is Yubo, Yugasa's Chatbot\n",
            "__________________________________________________\n",
            "By what name people call you?\n",
            "USR: By what name people call you?\n",
            "BOT: My name is Yubo, Yugasa's Chatbot\n",
            "__________________________________________________\n",
            "What is in dinner?\n",
            "USR: What is in dinner?\n",
            "BOT: I will be home around 6 pm.\n",
            "__________________________________________________\n",
            "What would you like to eat tonight?\n",
            "USR: What would you like to eat tonight?\n",
            "BOT: Pasta with salmon and red pesto please!\n",
            "__________________________________________________\n",
            "Would you like to eat some salad?\n",
            "USR: Would you like to eat some salad?\n",
            "BOT: Pasta with salmon and red pesto please!\n",
            "__________________________________________________\n",
            "Dont be late today\n",
            "USR: Dont be late today\n",
            "BOT: I will be home around 6 pm.\n",
            "__________________________________________________\n",
            "bye\n",
            "USR: bye\n",
            "BOT: Thanks for chatting. :)\n",
            "__________________________________________________\n"
          ],
          "name": "stdout"
        }
      ]
    },
    {
      "cell_type": "code",
      "metadata": {
        "id": "xXqsYyJ-uf_I",
        "colab_type": "code",
        "colab": {}
      },
      "source": [
        ""
      ],
      "execution_count": 0,
      "outputs": []
    }
  ]
}