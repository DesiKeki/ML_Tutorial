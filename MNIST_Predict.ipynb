{
  "nbformat": 4,
  "nbformat_minor": 0,
  "metadata": {
    "colab": {
      "name": "MNIST_Predict.ipynb",
      "provenance": [],
      "include_colab_link": true
    },
    "kernelspec": {
      "name": "python3",
      "display_name": "Python 3"
    },
    "widgets": {
      "application/vnd.jupyter.widget-state+json": {
        "50944b7211d64ecaab89d2d7b791aec5": {
          "model_module": "@jupyter-widgets/controls",
          "model_name": "HBoxModel",
          "state": {
            "_view_name": "HBoxView",
            "_dom_classes": [],
            "_model_name": "HBoxModel",
            "_view_module": "@jupyter-widgets/controls",
            "_model_module_version": "1.5.0",
            "_view_count": null,
            "_view_module_version": "1.5.0",
            "box_style": "",
            "layout": "IPY_MODEL_d9cc7ec1ce1b4578afbcdd1959efdb4d",
            "_model_module": "@jupyter-widgets/controls",
            "children": [
              "IPY_MODEL_b1eb938101524d76ba2873c7e27724ed",
              "IPY_MODEL_90683c0390744216a3079531f401e7ce"
            ]
          }
        },
        "d9cc7ec1ce1b4578afbcdd1959efdb4d": {
          "model_module": "@jupyter-widgets/base",
          "model_name": "LayoutModel",
          "state": {
            "_view_name": "LayoutView",
            "grid_template_rows": null,
            "right": null,
            "justify_content": null,
            "_view_module": "@jupyter-widgets/base",
            "overflow": null,
            "_model_module_version": "1.2.0",
            "_view_count": null,
            "flex_flow": null,
            "width": null,
            "min_width": null,
            "border": null,
            "align_items": null,
            "bottom": null,
            "_model_module": "@jupyter-widgets/base",
            "top": null,
            "grid_column": null,
            "overflow_y": null,
            "overflow_x": null,
            "grid_auto_flow": null,
            "grid_area": null,
            "grid_template_columns": null,
            "flex": null,
            "_model_name": "LayoutModel",
            "justify_items": null,
            "grid_row": null,
            "max_height": null,
            "align_content": null,
            "visibility": null,
            "align_self": null,
            "height": null,
            "min_height": null,
            "padding": null,
            "grid_auto_rows": null,
            "grid_gap": null,
            "max_width": null,
            "order": null,
            "_view_module_version": "1.2.0",
            "grid_template_areas": null,
            "object_position": null,
            "object_fit": null,
            "grid_auto_columns": null,
            "margin": null,
            "display": null,
            "left": null
          }
        },
        "b1eb938101524d76ba2873c7e27724ed": {
          "model_module": "@jupyter-widgets/controls",
          "model_name": "FloatProgressModel",
          "state": {
            "_view_name": "ProgressView",
            "style": "IPY_MODEL_ce407ab290df4ccfb3a20eb312bfcfca",
            "_dom_classes": [],
            "description": "",
            "_model_name": "FloatProgressModel",
            "bar_style": "success",
            "max": 1,
            "_view_module": "@jupyter-widgets/controls",
            "_model_module_version": "1.5.0",
            "value": 1,
            "_view_count": null,
            "_view_module_version": "1.5.0",
            "orientation": "horizontal",
            "min": 0,
            "description_tooltip": null,
            "_model_module": "@jupyter-widgets/controls",
            "layout": "IPY_MODEL_5ece85012fb2417cb8d9ce3a7329ce60"
          }
        },
        "90683c0390744216a3079531f401e7ce": {
          "model_module": "@jupyter-widgets/controls",
          "model_name": "HTMLModel",
          "state": {
            "_view_name": "HTMLView",
            "style": "IPY_MODEL_dbc86baab1084346aed28eafa7e79c38",
            "_dom_classes": [],
            "description": "",
            "_model_name": "HTMLModel",
            "placeholder": "​",
            "_view_module": "@jupyter-widgets/controls",
            "_model_module_version": "1.5.0",
            "value": " 19999/? [00:55&lt;00:00, 363.14it/s]",
            "_view_count": null,
            "_view_module_version": "1.5.0",
            "description_tooltip": null,
            "_model_module": "@jupyter-widgets/controls",
            "layout": "IPY_MODEL_29f860078b2d48b28f9c7c6dc0ae4cd5"
          }
        },
        "ce407ab290df4ccfb3a20eb312bfcfca": {
          "model_module": "@jupyter-widgets/controls",
          "model_name": "ProgressStyleModel",
          "state": {
            "_view_name": "StyleView",
            "_model_name": "ProgressStyleModel",
            "description_width": "initial",
            "_view_module": "@jupyter-widgets/base",
            "_model_module_version": "1.5.0",
            "_view_count": null,
            "_view_module_version": "1.2.0",
            "bar_color": null,
            "_model_module": "@jupyter-widgets/controls"
          }
        },
        "5ece85012fb2417cb8d9ce3a7329ce60": {
          "model_module": "@jupyter-widgets/base",
          "model_name": "LayoutModel",
          "state": {
            "_view_name": "LayoutView",
            "grid_template_rows": null,
            "right": null,
            "justify_content": null,
            "_view_module": "@jupyter-widgets/base",
            "overflow": null,
            "_model_module_version": "1.2.0",
            "_view_count": null,
            "flex_flow": null,
            "width": null,
            "min_width": null,
            "border": null,
            "align_items": null,
            "bottom": null,
            "_model_module": "@jupyter-widgets/base",
            "top": null,
            "grid_column": null,
            "overflow_y": null,
            "overflow_x": null,
            "grid_auto_flow": null,
            "grid_area": null,
            "grid_template_columns": null,
            "flex": null,
            "_model_name": "LayoutModel",
            "justify_items": null,
            "grid_row": null,
            "max_height": null,
            "align_content": null,
            "visibility": null,
            "align_self": null,
            "height": null,
            "min_height": null,
            "padding": null,
            "grid_auto_rows": null,
            "grid_gap": null,
            "max_width": null,
            "order": null,
            "_view_module_version": "1.2.0",
            "grid_template_areas": null,
            "object_position": null,
            "object_fit": null,
            "grid_auto_columns": null,
            "margin": null,
            "display": null,
            "left": null
          }
        },
        "dbc86baab1084346aed28eafa7e79c38": {
          "model_module": "@jupyter-widgets/controls",
          "model_name": "DescriptionStyleModel",
          "state": {
            "_view_name": "StyleView",
            "_model_name": "DescriptionStyleModel",
            "description_width": "",
            "_view_module": "@jupyter-widgets/base",
            "_model_module_version": "1.5.0",
            "_view_count": null,
            "_view_module_version": "1.2.0",
            "_model_module": "@jupyter-widgets/controls"
          }
        },
        "29f860078b2d48b28f9c7c6dc0ae4cd5": {
          "model_module": "@jupyter-widgets/base",
          "model_name": "LayoutModel",
          "state": {
            "_view_name": "LayoutView",
            "grid_template_rows": null,
            "right": null,
            "justify_content": null,
            "_view_module": "@jupyter-widgets/base",
            "overflow": null,
            "_model_module_version": "1.2.0",
            "_view_count": null,
            "flex_flow": null,
            "width": null,
            "min_width": null,
            "border": null,
            "align_items": null,
            "bottom": null,
            "_model_module": "@jupyter-widgets/base",
            "top": null,
            "grid_column": null,
            "overflow_y": null,
            "overflow_x": null,
            "grid_auto_flow": null,
            "grid_area": null,
            "grid_template_columns": null,
            "flex": null,
            "_model_name": "LayoutModel",
            "justify_items": null,
            "grid_row": null,
            "max_height": null,
            "align_content": null,
            "visibility": null,
            "align_self": null,
            "height": null,
            "min_height": null,
            "padding": null,
            "grid_auto_rows": null,
            "grid_gap": null,
            "max_width": null,
            "order": null,
            "_view_module_version": "1.2.0",
            "grid_template_areas": null,
            "object_position": null,
            "object_fit": null,
            "grid_auto_columns": null,
            "margin": null,
            "display": null,
            "left": null
          }
        },
        "014a62ab7fe5481792b4ca9d28156eb5": {
          "model_module": "@jupyter-widgets/controls",
          "model_name": "IntProgressModel",
          "state": {
            "_view_name": "ProgressView",
            "style": "IPY_MODEL_7e59466ea0724b0e820d04c467917573",
            "_dom_classes": [],
            "description": "Processing: ",
            "_model_name": "IntProgressModel",
            "bar_style": "",
            "max": 13,
            "_view_module": "@jupyter-widgets/controls",
            "_model_module_version": "1.5.0",
            "value": 3,
            "_view_count": null,
            "_view_module_version": "1.5.0",
            "orientation": "horizontal",
            "min": 0,
            "description_tooltip": null,
            "_model_module": "@jupyter-widgets/controls",
            "layout": "IPY_MODEL_9c4dd99d7d2f432b95983990bf1a8d4b"
          }
        },
        "7e59466ea0724b0e820d04c467917573": {
          "model_module": "@jupyter-widgets/controls",
          "model_name": "ProgressStyleModel",
          "state": {
            "_view_name": "StyleView",
            "_model_name": "ProgressStyleModel",
            "description_width": "",
            "_view_module": "@jupyter-widgets/base",
            "_model_module_version": "1.5.0",
            "_view_count": null,
            "_view_module_version": "1.2.0",
            "bar_color": null,
            "_model_module": "@jupyter-widgets/controls"
          }
        },
        "9c4dd99d7d2f432b95983990bf1a8d4b": {
          "model_module": "@jupyter-widgets/base",
          "model_name": "LayoutModel",
          "state": {
            "_view_name": "LayoutView",
            "grid_template_rows": null,
            "right": null,
            "justify_content": null,
            "_view_module": "@jupyter-widgets/base",
            "overflow": null,
            "_model_module_version": "1.2.0",
            "_view_count": null,
            "flex_flow": null,
            "width": null,
            "min_width": null,
            "border": null,
            "align_items": null,
            "bottom": null,
            "_model_module": "@jupyter-widgets/base",
            "top": null,
            "grid_column": null,
            "overflow_y": null,
            "overflow_x": null,
            "grid_auto_flow": null,
            "grid_area": null,
            "grid_template_columns": null,
            "flex": null,
            "_model_name": "LayoutModel",
            "justify_items": null,
            "grid_row": null,
            "max_height": null,
            "align_content": null,
            "visibility": null,
            "align_self": null,
            "height": null,
            "min_height": null,
            "padding": null,
            "grid_auto_rows": null,
            "grid_gap": null,
            "max_width": null,
            "order": null,
            "_view_module_version": "1.2.0",
            "grid_template_areas": null,
            "object_position": null,
            "object_fit": null,
            "grid_auto_columns": null,
            "margin": null,
            "display": null,
            "left": null
          }
        },
        "ea20d3bd77444417b8113f41028d55fa": {
          "model_module": "@jupyter-widgets/controls",
          "model_name": "TextModel",
          "state": {
            "_view_name": "TextView",
            "style": "IPY_MODEL_31f8014ff2f345588f4bccbc66860e3a",
            "_dom_classes": [],
            "description": "",
            "_model_name": "TextModel",
            "placeholder": "​",
            "_view_module": "@jupyter-widgets/controls",
            "_model_module_version": "1.5.0",
            "value": "Following data types have been inferred automatically, if they are correct press enter to continue or type 'quit' otherwise.",
            "_view_count": null,
            "disabled": false,
            "_view_module_version": "1.5.0",
            "continuous_update": true,
            "description_tooltip": null,
            "_model_module": "@jupyter-widgets/controls",
            "layout": "IPY_MODEL_094092cb6f264b78a450975c11013ea3"
          }
        },
        "31f8014ff2f345588f4bccbc66860e3a": {
          "model_module": "@jupyter-widgets/controls",
          "model_name": "DescriptionStyleModel",
          "state": {
            "_view_name": "StyleView",
            "_model_name": "DescriptionStyleModel",
            "description_width": "",
            "_view_module": "@jupyter-widgets/base",
            "_model_module_version": "1.5.0",
            "_view_count": null,
            "_view_module_version": "1.2.0",
            "_model_module": "@jupyter-widgets/controls"
          }
        },
        "094092cb6f264b78a450975c11013ea3": {
          "model_module": "@jupyter-widgets/base",
          "model_name": "LayoutModel",
          "state": {
            "_view_name": "LayoutView",
            "grid_template_rows": null,
            "right": null,
            "justify_content": null,
            "_view_module": "@jupyter-widgets/base",
            "overflow": null,
            "_model_module_version": "1.2.0",
            "_view_count": null,
            "flex_flow": null,
            "width": "100%",
            "min_width": null,
            "border": null,
            "align_items": null,
            "bottom": null,
            "_model_module": "@jupyter-widgets/base",
            "top": null,
            "grid_column": null,
            "overflow_y": null,
            "overflow_x": null,
            "grid_auto_flow": null,
            "grid_area": null,
            "grid_template_columns": null,
            "flex": null,
            "_model_name": "LayoutModel",
            "justify_items": null,
            "grid_row": null,
            "max_height": null,
            "align_content": null,
            "visibility": null,
            "align_self": null,
            "height": null,
            "min_height": null,
            "padding": null,
            "grid_auto_rows": null,
            "grid_gap": null,
            "max_width": null,
            "order": null,
            "_view_module_version": "1.2.0",
            "grid_template_areas": null,
            "object_position": null,
            "object_fit": null,
            "grid_auto_columns": null,
            "margin": null,
            "display": null,
            "left": null
          }
        },
        "9b3af8a7ad7141ce992852efd5cbcdcc": {
          "model_module": "@jupyter-widgets/controls",
          "model_name": "IntProgressModel",
          "state": {
            "_view_name": "ProgressView",
            "style": "IPY_MODEL_9f31e27667874fbda9e38ef5d966cdbb",
            "_dom_classes": [],
            "description": "Processing: ",
            "_model_name": "IntProgressModel",
            "bar_style": "",
            "max": 71,
            "_view_module": "@jupyter-widgets/controls",
            "_model_module_version": "1.5.0",
            "value": 62,
            "_view_count": null,
            "_view_module_version": "1.5.0",
            "orientation": "horizontal",
            "min": 0,
            "description_tooltip": null,
            "_model_module": "@jupyter-widgets/controls",
            "layout": "IPY_MODEL_260520f74fbb476bb96f1a2e282325d2"
          }
        },
        "9f31e27667874fbda9e38ef5d966cdbb": {
          "model_module": "@jupyter-widgets/controls",
          "model_name": "ProgressStyleModel",
          "state": {
            "_view_name": "StyleView",
            "_model_name": "ProgressStyleModel",
            "description_width": "",
            "_view_module": "@jupyter-widgets/base",
            "_model_module_version": "1.5.0",
            "_view_count": null,
            "_view_module_version": "1.2.0",
            "bar_color": null,
            "_model_module": "@jupyter-widgets/controls"
          }
        },
        "260520f74fbb476bb96f1a2e282325d2": {
          "model_module": "@jupyter-widgets/base",
          "model_name": "LayoutModel",
          "state": {
            "_view_name": "LayoutView",
            "grid_template_rows": null,
            "right": null,
            "justify_content": null,
            "_view_module": "@jupyter-widgets/base",
            "overflow": null,
            "_model_module_version": "1.2.0",
            "_view_count": null,
            "flex_flow": null,
            "width": null,
            "min_width": null,
            "border": null,
            "align_items": null,
            "bottom": null,
            "_model_module": "@jupyter-widgets/base",
            "top": null,
            "grid_column": null,
            "overflow_y": null,
            "overflow_x": null,
            "grid_auto_flow": null,
            "grid_area": null,
            "grid_template_columns": null,
            "flex": null,
            "_model_name": "LayoutModel",
            "justify_items": null,
            "grid_row": null,
            "max_height": null,
            "align_content": null,
            "visibility": null,
            "align_self": null,
            "height": null,
            "min_height": null,
            "padding": null,
            "grid_auto_rows": null,
            "grid_gap": null,
            "max_width": null,
            "order": null,
            "_view_module_version": "1.2.0",
            "grid_template_areas": null,
            "object_position": null,
            "object_fit": null,
            "grid_auto_columns": null,
            "margin": null,
            "display": null,
            "left": null
          }
        }
      }
    },
    "accelerator": "TPU"
  },
  "cells": [
    {
      "cell_type": "markdown",
      "metadata": {
        "id": "view-in-github",
        "colab_type": "text"
      },
      "source": [
        "<a href=\"https://colab.research.google.com/github/DesiKeki/ML_Tutorial/blob/master/MNIST_Predict.ipynb\" target=\"_parent\"><img src=\"https://colab.research.google.com/assets/colab-badge.svg\" alt=\"Open In Colab\"/></a>"
      ]
    },
    {
      "cell_type": "markdown",
      "metadata": {
        "id": "ZmT1KXimAr-J"
      },
      "source": [
        "# **MNIST Digit Image Recognition Model Creation Example**\n",
        "\n"
      ]
    },
    {
      "cell_type": "markdown",
      "metadata": {
        "id": "-HMsjRNXBJhe"
      },
      "source": [
        "Import libs"
      ]
    },
    {
      "cell_type": "code",
      "metadata": {
        "id": "DXXr5A8Q6prr"
      },
      "source": [
        "import numpy as np\n",
        "import matplotlib.pyplot as pt\n",
        "import pandas as pd\n",
        "from sklearn.ensemble import RandomForestClassifier\n",
        "from tqdm import tqdm_notebook as tn\n",
        "import time"
      ],
      "execution_count": 12,
      "outputs": []
    },
    {
      "cell_type": "markdown",
      "metadata": {
        "id": "1O5lzBrGPiYm"
      },
      "source": [
        "**Sample MNIST Data:**\n",
        "\n",
        "---\n",
        "`Image Source: www.medium.com`"
      ]
    },
    {
      "cell_type": "markdown",
      "metadata": {
        "id": "2ZhExRN9PGWK"
      },
      "source": [
        "![alt text](https://miro.medium.com/max/1200/1*VAjYygFUinnygIx9eVCrQQ.png)\n",
        "\n",
        "The MNIST database (Modified National Institute of Standards and Technology database) is a large database of handwritten digits that is commonly used for training various image processing systems."
      ]
    },
    {
      "cell_type": "markdown",
      "metadata": {
        "id": "YKD3t3oVAl1O"
      },
      "source": [
        "**Load training data**"
      ]
    },
    {
      "cell_type": "code",
      "metadata": {
        "id": "-IWAPfBs8z5l",
        "outputId": "d44e7688-0511-42ee-cbfe-fddce049d028",
        "colab": {
          "base_uri": "https://localhost:8080/",
          "height": 270
        }
      },
      "source": [
        "#Training and test data for MNIST is part of Google Collab's sample_data folder\n",
        "\n",
        "#Read the train CSV file in Pandas DataFrame\n",
        "df_train = pd.read_csv(\"sample_data/mnist_train_small.csv\")\n",
        "\n",
        "#Check the shape and first 5 rows of data\n",
        "print(df_train.shape)\n",
        "df_train.head()"
      ],
      "execution_count": 13,
      "outputs": [
        {
          "output_type": "stream",
          "text": [
            "(19999, 785)\n"
          ],
          "name": "stdout"
        },
        {
          "output_type": "execute_result",
          "data": {
            "text/html": [
              "<div>\n",
              "<style scoped>\n",
              "    .dataframe tbody tr th:only-of-type {\n",
              "        vertical-align: middle;\n",
              "    }\n",
              "\n",
              "    .dataframe tbody tr th {\n",
              "        vertical-align: top;\n",
              "    }\n",
              "\n",
              "    .dataframe thead th {\n",
              "        text-align: right;\n",
              "    }\n",
              "</style>\n",
              "<table border=\"1\" class=\"dataframe\">\n",
              "  <thead>\n",
              "    <tr style=\"text-align: right;\">\n",
              "      <th></th>\n",
              "      <th>6</th>\n",
              "      <th>0</th>\n",
              "      <th>0.1</th>\n",
              "      <th>0.2</th>\n",
              "      <th>0.3</th>\n",
              "      <th>0.4</th>\n",
              "      <th>0.5</th>\n",
              "      <th>0.6</th>\n",
              "      <th>0.7</th>\n",
              "      <th>0.8</th>\n",
              "      <th>0.9</th>\n",
              "      <th>0.10</th>\n",
              "      <th>0.11</th>\n",
              "      <th>0.12</th>\n",
              "      <th>0.13</th>\n",
              "      <th>0.14</th>\n",
              "      <th>0.15</th>\n",
              "      <th>0.16</th>\n",
              "      <th>0.17</th>\n",
              "      <th>0.18</th>\n",
              "      <th>0.19</th>\n",
              "      <th>0.20</th>\n",
              "      <th>0.21</th>\n",
              "      <th>0.22</th>\n",
              "      <th>0.23</th>\n",
              "      <th>0.24</th>\n",
              "      <th>0.25</th>\n",
              "      <th>0.26</th>\n",
              "      <th>0.27</th>\n",
              "      <th>0.28</th>\n",
              "      <th>0.29</th>\n",
              "      <th>0.30</th>\n",
              "      <th>0.31</th>\n",
              "      <th>0.32</th>\n",
              "      <th>0.33</th>\n",
              "      <th>0.34</th>\n",
              "      <th>0.35</th>\n",
              "      <th>0.36</th>\n",
              "      <th>0.37</th>\n",
              "      <th>0.38</th>\n",
              "      <th>...</th>\n",
              "      <th>0.551</th>\n",
              "      <th>0.552</th>\n",
              "      <th>0.553</th>\n",
              "      <th>0.554</th>\n",
              "      <th>0.555</th>\n",
              "      <th>0.556</th>\n",
              "      <th>0.557</th>\n",
              "      <th>0.558</th>\n",
              "      <th>0.559</th>\n",
              "      <th>0.560</th>\n",
              "      <th>0.561</th>\n",
              "      <th>0.562</th>\n",
              "      <th>0.563</th>\n",
              "      <th>0.564</th>\n",
              "      <th>0.565</th>\n",
              "      <th>0.566</th>\n",
              "      <th>0.567</th>\n",
              "      <th>0.568</th>\n",
              "      <th>0.569</th>\n",
              "      <th>0.570</th>\n",
              "      <th>0.571</th>\n",
              "      <th>0.572</th>\n",
              "      <th>0.573</th>\n",
              "      <th>0.574</th>\n",
              "      <th>0.575</th>\n",
              "      <th>0.576</th>\n",
              "      <th>0.577</th>\n",
              "      <th>0.578</th>\n",
              "      <th>0.579</th>\n",
              "      <th>0.580</th>\n",
              "      <th>0.581</th>\n",
              "      <th>0.582</th>\n",
              "      <th>0.583</th>\n",
              "      <th>0.584</th>\n",
              "      <th>0.585</th>\n",
              "      <th>0.586</th>\n",
              "      <th>0.587</th>\n",
              "      <th>0.588</th>\n",
              "      <th>0.589</th>\n",
              "      <th>0.590</th>\n",
              "    </tr>\n",
              "  </thead>\n",
              "  <tbody>\n",
              "    <tr>\n",
              "      <th>0</th>\n",
              "      <td>5</td>\n",
              "      <td>0</td>\n",
              "      <td>0</td>\n",
              "      <td>0</td>\n",
              "      <td>0</td>\n",
              "      <td>0</td>\n",
              "      <td>0</td>\n",
              "      <td>0</td>\n",
              "      <td>0</td>\n",
              "      <td>0</td>\n",
              "      <td>0</td>\n",
              "      <td>0</td>\n",
              "      <td>0</td>\n",
              "      <td>0</td>\n",
              "      <td>0</td>\n",
              "      <td>0</td>\n",
              "      <td>0</td>\n",
              "      <td>0</td>\n",
              "      <td>0</td>\n",
              "      <td>0</td>\n",
              "      <td>0</td>\n",
              "      <td>0</td>\n",
              "      <td>0</td>\n",
              "      <td>0</td>\n",
              "      <td>0</td>\n",
              "      <td>0</td>\n",
              "      <td>0</td>\n",
              "      <td>0</td>\n",
              "      <td>0</td>\n",
              "      <td>0</td>\n",
              "      <td>0</td>\n",
              "      <td>0</td>\n",
              "      <td>0</td>\n",
              "      <td>0</td>\n",
              "      <td>0</td>\n",
              "      <td>0</td>\n",
              "      <td>0</td>\n",
              "      <td>0</td>\n",
              "      <td>0</td>\n",
              "      <td>0</td>\n",
              "      <td>...</td>\n",
              "      <td>0</td>\n",
              "      <td>0</td>\n",
              "      <td>0</td>\n",
              "      <td>0</td>\n",
              "      <td>0</td>\n",
              "      <td>0</td>\n",
              "      <td>0</td>\n",
              "      <td>0</td>\n",
              "      <td>0</td>\n",
              "      <td>0</td>\n",
              "      <td>0</td>\n",
              "      <td>0</td>\n",
              "      <td>0</td>\n",
              "      <td>0</td>\n",
              "      <td>0</td>\n",
              "      <td>0</td>\n",
              "      <td>0</td>\n",
              "      <td>0</td>\n",
              "      <td>0</td>\n",
              "      <td>0</td>\n",
              "      <td>0</td>\n",
              "      <td>0</td>\n",
              "      <td>0</td>\n",
              "      <td>0</td>\n",
              "      <td>0</td>\n",
              "      <td>0</td>\n",
              "      <td>0</td>\n",
              "      <td>0</td>\n",
              "      <td>0</td>\n",
              "      <td>0</td>\n",
              "      <td>0</td>\n",
              "      <td>0</td>\n",
              "      <td>0</td>\n",
              "      <td>0</td>\n",
              "      <td>0</td>\n",
              "      <td>0</td>\n",
              "      <td>0</td>\n",
              "      <td>0</td>\n",
              "      <td>0</td>\n",
              "      <td>0</td>\n",
              "    </tr>\n",
              "    <tr>\n",
              "      <th>1</th>\n",
              "      <td>7</td>\n",
              "      <td>0</td>\n",
              "      <td>0</td>\n",
              "      <td>0</td>\n",
              "      <td>0</td>\n",
              "      <td>0</td>\n",
              "      <td>0</td>\n",
              "      <td>0</td>\n",
              "      <td>0</td>\n",
              "      <td>0</td>\n",
              "      <td>0</td>\n",
              "      <td>0</td>\n",
              "      <td>0</td>\n",
              "      <td>0</td>\n",
              "      <td>0</td>\n",
              "      <td>0</td>\n",
              "      <td>0</td>\n",
              "      <td>0</td>\n",
              "      <td>0</td>\n",
              "      <td>0</td>\n",
              "      <td>0</td>\n",
              "      <td>0</td>\n",
              "      <td>0</td>\n",
              "      <td>0</td>\n",
              "      <td>0</td>\n",
              "      <td>0</td>\n",
              "      <td>0</td>\n",
              "      <td>0</td>\n",
              "      <td>0</td>\n",
              "      <td>0</td>\n",
              "      <td>0</td>\n",
              "      <td>0</td>\n",
              "      <td>0</td>\n",
              "      <td>0</td>\n",
              "      <td>0</td>\n",
              "      <td>0</td>\n",
              "      <td>0</td>\n",
              "      <td>0</td>\n",
              "      <td>0</td>\n",
              "      <td>0</td>\n",
              "      <td>...</td>\n",
              "      <td>0</td>\n",
              "      <td>0</td>\n",
              "      <td>0</td>\n",
              "      <td>0</td>\n",
              "      <td>0</td>\n",
              "      <td>0</td>\n",
              "      <td>0</td>\n",
              "      <td>0</td>\n",
              "      <td>0</td>\n",
              "      <td>0</td>\n",
              "      <td>0</td>\n",
              "      <td>0</td>\n",
              "      <td>0</td>\n",
              "      <td>0</td>\n",
              "      <td>0</td>\n",
              "      <td>0</td>\n",
              "      <td>0</td>\n",
              "      <td>0</td>\n",
              "      <td>0</td>\n",
              "      <td>0</td>\n",
              "      <td>0</td>\n",
              "      <td>0</td>\n",
              "      <td>0</td>\n",
              "      <td>0</td>\n",
              "      <td>0</td>\n",
              "      <td>0</td>\n",
              "      <td>0</td>\n",
              "      <td>0</td>\n",
              "      <td>0</td>\n",
              "      <td>0</td>\n",
              "      <td>0</td>\n",
              "      <td>0</td>\n",
              "      <td>0</td>\n",
              "      <td>0</td>\n",
              "      <td>0</td>\n",
              "      <td>0</td>\n",
              "      <td>0</td>\n",
              "      <td>0</td>\n",
              "      <td>0</td>\n",
              "      <td>0</td>\n",
              "    </tr>\n",
              "    <tr>\n",
              "      <th>2</th>\n",
              "      <td>9</td>\n",
              "      <td>0</td>\n",
              "      <td>0</td>\n",
              "      <td>0</td>\n",
              "      <td>0</td>\n",
              "      <td>0</td>\n",
              "      <td>0</td>\n",
              "      <td>0</td>\n",
              "      <td>0</td>\n",
              "      <td>0</td>\n",
              "      <td>0</td>\n",
              "      <td>0</td>\n",
              "      <td>0</td>\n",
              "      <td>0</td>\n",
              "      <td>0</td>\n",
              "      <td>0</td>\n",
              "      <td>0</td>\n",
              "      <td>0</td>\n",
              "      <td>0</td>\n",
              "      <td>0</td>\n",
              "      <td>0</td>\n",
              "      <td>0</td>\n",
              "      <td>0</td>\n",
              "      <td>0</td>\n",
              "      <td>0</td>\n",
              "      <td>0</td>\n",
              "      <td>0</td>\n",
              "      <td>0</td>\n",
              "      <td>0</td>\n",
              "      <td>0</td>\n",
              "      <td>0</td>\n",
              "      <td>0</td>\n",
              "      <td>0</td>\n",
              "      <td>0</td>\n",
              "      <td>0</td>\n",
              "      <td>0</td>\n",
              "      <td>0</td>\n",
              "      <td>0</td>\n",
              "      <td>0</td>\n",
              "      <td>0</td>\n",
              "      <td>...</td>\n",
              "      <td>15</td>\n",
              "      <td>0</td>\n",
              "      <td>0</td>\n",
              "      <td>0</td>\n",
              "      <td>0</td>\n",
              "      <td>0</td>\n",
              "      <td>0</td>\n",
              "      <td>0</td>\n",
              "      <td>0</td>\n",
              "      <td>0</td>\n",
              "      <td>0</td>\n",
              "      <td>0</td>\n",
              "      <td>0</td>\n",
              "      <td>0</td>\n",
              "      <td>0</td>\n",
              "      <td>0</td>\n",
              "      <td>0</td>\n",
              "      <td>0</td>\n",
              "      <td>0</td>\n",
              "      <td>0</td>\n",
              "      <td>0</td>\n",
              "      <td>0</td>\n",
              "      <td>0</td>\n",
              "      <td>0</td>\n",
              "      <td>0</td>\n",
              "      <td>0</td>\n",
              "      <td>0</td>\n",
              "      <td>0</td>\n",
              "      <td>0</td>\n",
              "      <td>0</td>\n",
              "      <td>0</td>\n",
              "      <td>0</td>\n",
              "      <td>0</td>\n",
              "      <td>0</td>\n",
              "      <td>0</td>\n",
              "      <td>0</td>\n",
              "      <td>0</td>\n",
              "      <td>0</td>\n",
              "      <td>0</td>\n",
              "      <td>0</td>\n",
              "    </tr>\n",
              "    <tr>\n",
              "      <th>3</th>\n",
              "      <td>5</td>\n",
              "      <td>0</td>\n",
              "      <td>0</td>\n",
              "      <td>0</td>\n",
              "      <td>0</td>\n",
              "      <td>0</td>\n",
              "      <td>0</td>\n",
              "      <td>0</td>\n",
              "      <td>0</td>\n",
              "      <td>0</td>\n",
              "      <td>0</td>\n",
              "      <td>0</td>\n",
              "      <td>0</td>\n",
              "      <td>0</td>\n",
              "      <td>0</td>\n",
              "      <td>0</td>\n",
              "      <td>0</td>\n",
              "      <td>0</td>\n",
              "      <td>0</td>\n",
              "      <td>0</td>\n",
              "      <td>0</td>\n",
              "      <td>0</td>\n",
              "      <td>0</td>\n",
              "      <td>0</td>\n",
              "      <td>0</td>\n",
              "      <td>0</td>\n",
              "      <td>0</td>\n",
              "      <td>0</td>\n",
              "      <td>0</td>\n",
              "      <td>0</td>\n",
              "      <td>0</td>\n",
              "      <td>0</td>\n",
              "      <td>0</td>\n",
              "      <td>0</td>\n",
              "      <td>0</td>\n",
              "      <td>0</td>\n",
              "      <td>0</td>\n",
              "      <td>0</td>\n",
              "      <td>0</td>\n",
              "      <td>0</td>\n",
              "      <td>...</td>\n",
              "      <td>0</td>\n",
              "      <td>0</td>\n",
              "      <td>0</td>\n",
              "      <td>0</td>\n",
              "      <td>0</td>\n",
              "      <td>0</td>\n",
              "      <td>0</td>\n",
              "      <td>0</td>\n",
              "      <td>0</td>\n",
              "      <td>0</td>\n",
              "      <td>0</td>\n",
              "      <td>0</td>\n",
              "      <td>0</td>\n",
              "      <td>0</td>\n",
              "      <td>0</td>\n",
              "      <td>0</td>\n",
              "      <td>0</td>\n",
              "      <td>0</td>\n",
              "      <td>0</td>\n",
              "      <td>0</td>\n",
              "      <td>0</td>\n",
              "      <td>0</td>\n",
              "      <td>0</td>\n",
              "      <td>0</td>\n",
              "      <td>0</td>\n",
              "      <td>0</td>\n",
              "      <td>0</td>\n",
              "      <td>0</td>\n",
              "      <td>0</td>\n",
              "      <td>0</td>\n",
              "      <td>0</td>\n",
              "      <td>0</td>\n",
              "      <td>0</td>\n",
              "      <td>0</td>\n",
              "      <td>0</td>\n",
              "      <td>0</td>\n",
              "      <td>0</td>\n",
              "      <td>0</td>\n",
              "      <td>0</td>\n",
              "      <td>0</td>\n",
              "    </tr>\n",
              "    <tr>\n",
              "      <th>4</th>\n",
              "      <td>2</td>\n",
              "      <td>0</td>\n",
              "      <td>0</td>\n",
              "      <td>0</td>\n",
              "      <td>0</td>\n",
              "      <td>0</td>\n",
              "      <td>0</td>\n",
              "      <td>0</td>\n",
              "      <td>0</td>\n",
              "      <td>0</td>\n",
              "      <td>0</td>\n",
              "      <td>0</td>\n",
              "      <td>0</td>\n",
              "      <td>0</td>\n",
              "      <td>0</td>\n",
              "      <td>0</td>\n",
              "      <td>0</td>\n",
              "      <td>0</td>\n",
              "      <td>0</td>\n",
              "      <td>0</td>\n",
              "      <td>0</td>\n",
              "      <td>0</td>\n",
              "      <td>0</td>\n",
              "      <td>0</td>\n",
              "      <td>0</td>\n",
              "      <td>0</td>\n",
              "      <td>0</td>\n",
              "      <td>0</td>\n",
              "      <td>0</td>\n",
              "      <td>0</td>\n",
              "      <td>0</td>\n",
              "      <td>0</td>\n",
              "      <td>0</td>\n",
              "      <td>0</td>\n",
              "      <td>0</td>\n",
              "      <td>0</td>\n",
              "      <td>0</td>\n",
              "      <td>0</td>\n",
              "      <td>0</td>\n",
              "      <td>0</td>\n",
              "      <td>...</td>\n",
              "      <td>0</td>\n",
              "      <td>0</td>\n",
              "      <td>0</td>\n",
              "      <td>0</td>\n",
              "      <td>0</td>\n",
              "      <td>0</td>\n",
              "      <td>0</td>\n",
              "      <td>0</td>\n",
              "      <td>0</td>\n",
              "      <td>0</td>\n",
              "      <td>0</td>\n",
              "      <td>0</td>\n",
              "      <td>0</td>\n",
              "      <td>0</td>\n",
              "      <td>0</td>\n",
              "      <td>0</td>\n",
              "      <td>0</td>\n",
              "      <td>0</td>\n",
              "      <td>0</td>\n",
              "      <td>0</td>\n",
              "      <td>0</td>\n",
              "      <td>0</td>\n",
              "      <td>0</td>\n",
              "      <td>0</td>\n",
              "      <td>0</td>\n",
              "      <td>0</td>\n",
              "      <td>0</td>\n",
              "      <td>0</td>\n",
              "      <td>0</td>\n",
              "      <td>0</td>\n",
              "      <td>0</td>\n",
              "      <td>0</td>\n",
              "      <td>0</td>\n",
              "      <td>0</td>\n",
              "      <td>0</td>\n",
              "      <td>0</td>\n",
              "      <td>0</td>\n",
              "      <td>0</td>\n",
              "      <td>0</td>\n",
              "      <td>0</td>\n",
              "    </tr>\n",
              "  </tbody>\n",
              "</table>\n",
              "<p>5 rows × 785 columns</p>\n",
              "</div>"
            ],
            "text/plain": [
              "   6  0  0.1  0.2  0.3  0.4  ...  0.585  0.586  0.587  0.588  0.589  0.590\n",
              "0  5  0    0    0    0    0  ...      0      0      0      0      0      0\n",
              "1  7  0    0    0    0    0  ...      0      0      0      0      0      0\n",
              "2  9  0    0    0    0    0  ...      0      0      0      0      0      0\n",
              "3  5  0    0    0    0    0  ...      0      0      0      0      0      0\n",
              "4  2  0    0    0    0    0  ...      0      0      0      0      0      0\n",
              "\n",
              "[5 rows x 785 columns]"
            ]
          },
          "metadata": {
            "tags": []
          },
          "execution_count": 13
        }
      ]
    },
    {
      "cell_type": "code",
      "metadata": {
        "id": "vd-_9gwJB9Ik"
      },
      "source": [
        "#Segregate the training Features and Labels\n",
        "X_train = df_train.iloc[:, 1:] #Features\n",
        "y_train = df_train.iloc[:, 0]  #Labels"
      ],
      "execution_count": 3,
      "outputs": []
    },
    {
      "cell_type": "markdown",
      "metadata": {
        "id": "WfEU5nKhAoSQ"
      },
      "source": [
        "Load test data"
      ]
    },
    {
      "cell_type": "code",
      "metadata": {
        "id": "evXjgfLX9HRV",
        "outputId": "2297212e-9f4b-4f18-bae8-0c2d3aca3fe6",
        "colab": {
          "base_uri": "https://localhost:8080/",
          "height": 270
        }
      },
      "source": [
        "#Read the test CSV file in Pandas DataFrame\n",
        "df_test = pd.read_csv(\"sample_data/mnist_test.csv\")\n",
        "print(df_test.shape)\n",
        "df_test.head()"
      ],
      "execution_count": 4,
      "outputs": [
        {
          "output_type": "stream",
          "text": [
            "(9999, 785)\n"
          ],
          "name": "stdout"
        },
        {
          "output_type": "execute_result",
          "data": {
            "text/html": [
              "<div>\n",
              "<style scoped>\n",
              "    .dataframe tbody tr th:only-of-type {\n",
              "        vertical-align: middle;\n",
              "    }\n",
              "\n",
              "    .dataframe tbody tr th {\n",
              "        vertical-align: top;\n",
              "    }\n",
              "\n",
              "    .dataframe thead th {\n",
              "        text-align: right;\n",
              "    }\n",
              "</style>\n",
              "<table border=\"1\" class=\"dataframe\">\n",
              "  <thead>\n",
              "    <tr style=\"text-align: right;\">\n",
              "      <th></th>\n",
              "      <th>7</th>\n",
              "      <th>0</th>\n",
              "      <th>0.1</th>\n",
              "      <th>0.2</th>\n",
              "      <th>0.3</th>\n",
              "      <th>0.4</th>\n",
              "      <th>0.5</th>\n",
              "      <th>0.6</th>\n",
              "      <th>0.7</th>\n",
              "      <th>0.8</th>\n",
              "      <th>0.9</th>\n",
              "      <th>0.10</th>\n",
              "      <th>0.11</th>\n",
              "      <th>0.12</th>\n",
              "      <th>0.13</th>\n",
              "      <th>0.14</th>\n",
              "      <th>0.15</th>\n",
              "      <th>0.16</th>\n",
              "      <th>0.17</th>\n",
              "      <th>0.18</th>\n",
              "      <th>0.19</th>\n",
              "      <th>0.20</th>\n",
              "      <th>0.21</th>\n",
              "      <th>0.22</th>\n",
              "      <th>0.23</th>\n",
              "      <th>0.24</th>\n",
              "      <th>0.25</th>\n",
              "      <th>0.26</th>\n",
              "      <th>0.27</th>\n",
              "      <th>0.28</th>\n",
              "      <th>0.29</th>\n",
              "      <th>0.30</th>\n",
              "      <th>0.31</th>\n",
              "      <th>0.32</th>\n",
              "      <th>0.33</th>\n",
              "      <th>0.34</th>\n",
              "      <th>0.35</th>\n",
              "      <th>0.36</th>\n",
              "      <th>0.37</th>\n",
              "      <th>0.38</th>\n",
              "      <th>...</th>\n",
              "      <th>0.628</th>\n",
              "      <th>0.629</th>\n",
              "      <th>0.630</th>\n",
              "      <th>0.631</th>\n",
              "      <th>0.632</th>\n",
              "      <th>0.633</th>\n",
              "      <th>0.634</th>\n",
              "      <th>0.635</th>\n",
              "      <th>0.636</th>\n",
              "      <th>0.637</th>\n",
              "      <th>0.638</th>\n",
              "      <th>0.639</th>\n",
              "      <th>0.640</th>\n",
              "      <th>0.641</th>\n",
              "      <th>0.642</th>\n",
              "      <th>0.643</th>\n",
              "      <th>0.644</th>\n",
              "      <th>0.645</th>\n",
              "      <th>0.646</th>\n",
              "      <th>0.647</th>\n",
              "      <th>0.648</th>\n",
              "      <th>0.649</th>\n",
              "      <th>0.650</th>\n",
              "      <th>0.651</th>\n",
              "      <th>0.652</th>\n",
              "      <th>0.653</th>\n",
              "      <th>0.654</th>\n",
              "      <th>0.655</th>\n",
              "      <th>0.656</th>\n",
              "      <th>0.657</th>\n",
              "      <th>0.658</th>\n",
              "      <th>0.659</th>\n",
              "      <th>0.660</th>\n",
              "      <th>0.661</th>\n",
              "      <th>0.662</th>\n",
              "      <th>0.663</th>\n",
              "      <th>0.664</th>\n",
              "      <th>0.665</th>\n",
              "      <th>0.666</th>\n",
              "      <th>0.667</th>\n",
              "    </tr>\n",
              "  </thead>\n",
              "  <tbody>\n",
              "    <tr>\n",
              "      <th>0</th>\n",
              "      <td>2</td>\n",
              "      <td>0</td>\n",
              "      <td>0</td>\n",
              "      <td>0</td>\n",
              "      <td>0</td>\n",
              "      <td>0</td>\n",
              "      <td>0</td>\n",
              "      <td>0</td>\n",
              "      <td>0</td>\n",
              "      <td>0</td>\n",
              "      <td>0</td>\n",
              "      <td>0</td>\n",
              "      <td>0</td>\n",
              "      <td>0</td>\n",
              "      <td>0</td>\n",
              "      <td>0</td>\n",
              "      <td>0</td>\n",
              "      <td>0</td>\n",
              "      <td>0</td>\n",
              "      <td>0</td>\n",
              "      <td>0</td>\n",
              "      <td>0</td>\n",
              "      <td>0</td>\n",
              "      <td>0</td>\n",
              "      <td>0</td>\n",
              "      <td>0</td>\n",
              "      <td>0</td>\n",
              "      <td>0</td>\n",
              "      <td>0</td>\n",
              "      <td>0</td>\n",
              "      <td>0</td>\n",
              "      <td>0</td>\n",
              "      <td>0</td>\n",
              "      <td>0</td>\n",
              "      <td>0</td>\n",
              "      <td>0</td>\n",
              "      <td>0</td>\n",
              "      <td>0</td>\n",
              "      <td>0</td>\n",
              "      <td>0</td>\n",
              "      <td>...</td>\n",
              "      <td>0</td>\n",
              "      <td>0</td>\n",
              "      <td>0</td>\n",
              "      <td>0</td>\n",
              "      <td>0</td>\n",
              "      <td>0</td>\n",
              "      <td>0</td>\n",
              "      <td>0</td>\n",
              "      <td>0</td>\n",
              "      <td>0</td>\n",
              "      <td>0</td>\n",
              "      <td>0</td>\n",
              "      <td>0</td>\n",
              "      <td>0</td>\n",
              "      <td>0</td>\n",
              "      <td>0</td>\n",
              "      <td>0</td>\n",
              "      <td>0</td>\n",
              "      <td>0</td>\n",
              "      <td>0</td>\n",
              "      <td>0</td>\n",
              "      <td>0</td>\n",
              "      <td>0</td>\n",
              "      <td>0</td>\n",
              "      <td>0</td>\n",
              "      <td>0</td>\n",
              "      <td>0</td>\n",
              "      <td>0</td>\n",
              "      <td>0</td>\n",
              "      <td>0</td>\n",
              "      <td>0</td>\n",
              "      <td>0</td>\n",
              "      <td>0</td>\n",
              "      <td>0</td>\n",
              "      <td>0</td>\n",
              "      <td>0</td>\n",
              "      <td>0</td>\n",
              "      <td>0</td>\n",
              "      <td>0</td>\n",
              "      <td>0</td>\n",
              "    </tr>\n",
              "    <tr>\n",
              "      <th>1</th>\n",
              "      <td>1</td>\n",
              "      <td>0</td>\n",
              "      <td>0</td>\n",
              "      <td>0</td>\n",
              "      <td>0</td>\n",
              "      <td>0</td>\n",
              "      <td>0</td>\n",
              "      <td>0</td>\n",
              "      <td>0</td>\n",
              "      <td>0</td>\n",
              "      <td>0</td>\n",
              "      <td>0</td>\n",
              "      <td>0</td>\n",
              "      <td>0</td>\n",
              "      <td>0</td>\n",
              "      <td>0</td>\n",
              "      <td>0</td>\n",
              "      <td>0</td>\n",
              "      <td>0</td>\n",
              "      <td>0</td>\n",
              "      <td>0</td>\n",
              "      <td>0</td>\n",
              "      <td>0</td>\n",
              "      <td>0</td>\n",
              "      <td>0</td>\n",
              "      <td>0</td>\n",
              "      <td>0</td>\n",
              "      <td>0</td>\n",
              "      <td>0</td>\n",
              "      <td>0</td>\n",
              "      <td>0</td>\n",
              "      <td>0</td>\n",
              "      <td>0</td>\n",
              "      <td>0</td>\n",
              "      <td>0</td>\n",
              "      <td>0</td>\n",
              "      <td>0</td>\n",
              "      <td>0</td>\n",
              "      <td>0</td>\n",
              "      <td>0</td>\n",
              "      <td>...</td>\n",
              "      <td>0</td>\n",
              "      <td>0</td>\n",
              "      <td>0</td>\n",
              "      <td>0</td>\n",
              "      <td>0</td>\n",
              "      <td>0</td>\n",
              "      <td>0</td>\n",
              "      <td>0</td>\n",
              "      <td>0</td>\n",
              "      <td>0</td>\n",
              "      <td>0</td>\n",
              "      <td>0</td>\n",
              "      <td>0</td>\n",
              "      <td>0</td>\n",
              "      <td>0</td>\n",
              "      <td>0</td>\n",
              "      <td>0</td>\n",
              "      <td>0</td>\n",
              "      <td>0</td>\n",
              "      <td>0</td>\n",
              "      <td>0</td>\n",
              "      <td>0</td>\n",
              "      <td>0</td>\n",
              "      <td>0</td>\n",
              "      <td>0</td>\n",
              "      <td>0</td>\n",
              "      <td>0</td>\n",
              "      <td>0</td>\n",
              "      <td>0</td>\n",
              "      <td>0</td>\n",
              "      <td>0</td>\n",
              "      <td>0</td>\n",
              "      <td>0</td>\n",
              "      <td>0</td>\n",
              "      <td>0</td>\n",
              "      <td>0</td>\n",
              "      <td>0</td>\n",
              "      <td>0</td>\n",
              "      <td>0</td>\n",
              "      <td>0</td>\n",
              "    </tr>\n",
              "    <tr>\n",
              "      <th>2</th>\n",
              "      <td>0</td>\n",
              "      <td>0</td>\n",
              "      <td>0</td>\n",
              "      <td>0</td>\n",
              "      <td>0</td>\n",
              "      <td>0</td>\n",
              "      <td>0</td>\n",
              "      <td>0</td>\n",
              "      <td>0</td>\n",
              "      <td>0</td>\n",
              "      <td>0</td>\n",
              "      <td>0</td>\n",
              "      <td>0</td>\n",
              "      <td>0</td>\n",
              "      <td>0</td>\n",
              "      <td>0</td>\n",
              "      <td>0</td>\n",
              "      <td>0</td>\n",
              "      <td>0</td>\n",
              "      <td>0</td>\n",
              "      <td>0</td>\n",
              "      <td>0</td>\n",
              "      <td>0</td>\n",
              "      <td>0</td>\n",
              "      <td>0</td>\n",
              "      <td>0</td>\n",
              "      <td>0</td>\n",
              "      <td>0</td>\n",
              "      <td>0</td>\n",
              "      <td>0</td>\n",
              "      <td>0</td>\n",
              "      <td>0</td>\n",
              "      <td>0</td>\n",
              "      <td>0</td>\n",
              "      <td>0</td>\n",
              "      <td>0</td>\n",
              "      <td>0</td>\n",
              "      <td>0</td>\n",
              "      <td>0</td>\n",
              "      <td>0</td>\n",
              "      <td>...</td>\n",
              "      <td>0</td>\n",
              "      <td>0</td>\n",
              "      <td>0</td>\n",
              "      <td>0</td>\n",
              "      <td>0</td>\n",
              "      <td>0</td>\n",
              "      <td>0</td>\n",
              "      <td>0</td>\n",
              "      <td>0</td>\n",
              "      <td>0</td>\n",
              "      <td>0</td>\n",
              "      <td>0</td>\n",
              "      <td>0</td>\n",
              "      <td>0</td>\n",
              "      <td>0</td>\n",
              "      <td>0</td>\n",
              "      <td>0</td>\n",
              "      <td>0</td>\n",
              "      <td>0</td>\n",
              "      <td>0</td>\n",
              "      <td>0</td>\n",
              "      <td>0</td>\n",
              "      <td>0</td>\n",
              "      <td>0</td>\n",
              "      <td>0</td>\n",
              "      <td>0</td>\n",
              "      <td>0</td>\n",
              "      <td>0</td>\n",
              "      <td>0</td>\n",
              "      <td>0</td>\n",
              "      <td>0</td>\n",
              "      <td>0</td>\n",
              "      <td>0</td>\n",
              "      <td>0</td>\n",
              "      <td>0</td>\n",
              "      <td>0</td>\n",
              "      <td>0</td>\n",
              "      <td>0</td>\n",
              "      <td>0</td>\n",
              "      <td>0</td>\n",
              "    </tr>\n",
              "    <tr>\n",
              "      <th>3</th>\n",
              "      <td>4</td>\n",
              "      <td>0</td>\n",
              "      <td>0</td>\n",
              "      <td>0</td>\n",
              "      <td>0</td>\n",
              "      <td>0</td>\n",
              "      <td>0</td>\n",
              "      <td>0</td>\n",
              "      <td>0</td>\n",
              "      <td>0</td>\n",
              "      <td>0</td>\n",
              "      <td>0</td>\n",
              "      <td>0</td>\n",
              "      <td>0</td>\n",
              "      <td>0</td>\n",
              "      <td>0</td>\n",
              "      <td>0</td>\n",
              "      <td>0</td>\n",
              "      <td>0</td>\n",
              "      <td>0</td>\n",
              "      <td>0</td>\n",
              "      <td>0</td>\n",
              "      <td>0</td>\n",
              "      <td>0</td>\n",
              "      <td>0</td>\n",
              "      <td>0</td>\n",
              "      <td>0</td>\n",
              "      <td>0</td>\n",
              "      <td>0</td>\n",
              "      <td>0</td>\n",
              "      <td>0</td>\n",
              "      <td>0</td>\n",
              "      <td>0</td>\n",
              "      <td>0</td>\n",
              "      <td>0</td>\n",
              "      <td>0</td>\n",
              "      <td>0</td>\n",
              "      <td>0</td>\n",
              "      <td>0</td>\n",
              "      <td>0</td>\n",
              "      <td>...</td>\n",
              "      <td>0</td>\n",
              "      <td>0</td>\n",
              "      <td>0</td>\n",
              "      <td>0</td>\n",
              "      <td>0</td>\n",
              "      <td>0</td>\n",
              "      <td>0</td>\n",
              "      <td>0</td>\n",
              "      <td>0</td>\n",
              "      <td>0</td>\n",
              "      <td>0</td>\n",
              "      <td>0</td>\n",
              "      <td>0</td>\n",
              "      <td>0</td>\n",
              "      <td>0</td>\n",
              "      <td>0</td>\n",
              "      <td>0</td>\n",
              "      <td>0</td>\n",
              "      <td>0</td>\n",
              "      <td>0</td>\n",
              "      <td>0</td>\n",
              "      <td>0</td>\n",
              "      <td>0</td>\n",
              "      <td>0</td>\n",
              "      <td>0</td>\n",
              "      <td>0</td>\n",
              "      <td>0</td>\n",
              "      <td>0</td>\n",
              "      <td>0</td>\n",
              "      <td>0</td>\n",
              "      <td>0</td>\n",
              "      <td>0</td>\n",
              "      <td>0</td>\n",
              "      <td>0</td>\n",
              "      <td>0</td>\n",
              "      <td>0</td>\n",
              "      <td>0</td>\n",
              "      <td>0</td>\n",
              "      <td>0</td>\n",
              "      <td>0</td>\n",
              "    </tr>\n",
              "    <tr>\n",
              "      <th>4</th>\n",
              "      <td>1</td>\n",
              "      <td>0</td>\n",
              "      <td>0</td>\n",
              "      <td>0</td>\n",
              "      <td>0</td>\n",
              "      <td>0</td>\n",
              "      <td>0</td>\n",
              "      <td>0</td>\n",
              "      <td>0</td>\n",
              "      <td>0</td>\n",
              "      <td>0</td>\n",
              "      <td>0</td>\n",
              "      <td>0</td>\n",
              "      <td>0</td>\n",
              "      <td>0</td>\n",
              "      <td>0</td>\n",
              "      <td>0</td>\n",
              "      <td>0</td>\n",
              "      <td>0</td>\n",
              "      <td>0</td>\n",
              "      <td>0</td>\n",
              "      <td>0</td>\n",
              "      <td>0</td>\n",
              "      <td>0</td>\n",
              "      <td>0</td>\n",
              "      <td>0</td>\n",
              "      <td>0</td>\n",
              "      <td>0</td>\n",
              "      <td>0</td>\n",
              "      <td>0</td>\n",
              "      <td>0</td>\n",
              "      <td>0</td>\n",
              "      <td>0</td>\n",
              "      <td>0</td>\n",
              "      <td>0</td>\n",
              "      <td>0</td>\n",
              "      <td>0</td>\n",
              "      <td>0</td>\n",
              "      <td>0</td>\n",
              "      <td>0</td>\n",
              "      <td>...</td>\n",
              "      <td>0</td>\n",
              "      <td>0</td>\n",
              "      <td>0</td>\n",
              "      <td>0</td>\n",
              "      <td>0</td>\n",
              "      <td>0</td>\n",
              "      <td>0</td>\n",
              "      <td>0</td>\n",
              "      <td>0</td>\n",
              "      <td>0</td>\n",
              "      <td>0</td>\n",
              "      <td>0</td>\n",
              "      <td>0</td>\n",
              "      <td>0</td>\n",
              "      <td>0</td>\n",
              "      <td>0</td>\n",
              "      <td>0</td>\n",
              "      <td>0</td>\n",
              "      <td>0</td>\n",
              "      <td>0</td>\n",
              "      <td>0</td>\n",
              "      <td>0</td>\n",
              "      <td>0</td>\n",
              "      <td>0</td>\n",
              "      <td>0</td>\n",
              "      <td>0</td>\n",
              "      <td>0</td>\n",
              "      <td>0</td>\n",
              "      <td>0</td>\n",
              "      <td>0</td>\n",
              "      <td>0</td>\n",
              "      <td>0</td>\n",
              "      <td>0</td>\n",
              "      <td>0</td>\n",
              "      <td>0</td>\n",
              "      <td>0</td>\n",
              "      <td>0</td>\n",
              "      <td>0</td>\n",
              "      <td>0</td>\n",
              "      <td>0</td>\n",
              "    </tr>\n",
              "  </tbody>\n",
              "</table>\n",
              "<p>5 rows × 785 columns</p>\n",
              "</div>"
            ],
            "text/plain": [
              "   7  0  0.1  0.2  0.3  0.4  ...  0.662  0.663  0.664  0.665  0.666  0.667\n",
              "0  2  0    0    0    0    0  ...      0      0      0      0      0      0\n",
              "1  1  0    0    0    0    0  ...      0      0      0      0      0      0\n",
              "2  0  0    0    0    0    0  ...      0      0      0      0      0      0\n",
              "3  4  0    0    0    0    0  ...      0      0      0      0      0      0\n",
              "4  1  0    0    0    0    0  ...      0      0      0      0      0      0\n",
              "\n",
              "[5 rows x 785 columns]"
            ]
          },
          "metadata": {
            "tags": []
          },
          "execution_count": 4
        }
      ]
    },
    {
      "cell_type": "code",
      "metadata": {
        "id": "hzzFuSil_ojA"
      },
      "source": [
        "df_test.rename(columns={'7': '6'}, inplace=True)\n",
        "df_test.head()"
      ],
      "execution_count": null,
      "outputs": []
    },
    {
      "cell_type": "code",
      "metadata": {
        "id": "wNrKT0toCgaX"
      },
      "source": [
        "#Segregate the test Features and Labels\n",
        "X_test = df_test.iloc[:, 1:]\n",
        "y_test = df_test.iloc[:, 0]"
      ],
      "execution_count": 5,
      "outputs": []
    },
    {
      "cell_type": "markdown",
      "metadata": {
        "id": "cHdJVEkuAZYm"
      },
      "source": [
        "Lets visualize our data sample. 5th image in training data (it is 2)"
      ]
    },
    {
      "cell_type": "code",
      "metadata": {
        "id": "rpEgpt2W--rI",
        "outputId": "0219bc94-e89f-4554-e590-2ec93134c237",
        "colab": {
          "base_uri": "https://localhost:8080/",
          "height": 265
        }
      },
      "source": [
        "s = X_train.iloc[4].values    #Gives the values of 5th tuple of the dataframe\n",
        "s.shape = (28,28)             #Converts the tuple into a 2D array of 28X28\n",
        "pt.imshow(255-s, cmap='gray') #pt comes from matplot lib imported above\n",
        "pt.show()"
      ],
      "execution_count": 6,
      "outputs": [
        {
          "output_type": "display_data",
          "data": {
            "image/png": "[encoded data removed]",
            "text/plain": [
              "<Figure size 432x288 with 1 Axes>"
            ]
          },
          "metadata": {
            "tags": [],
            "needs_background": "light"
          }
        }
      ]
    },
    {
      "cell_type": "markdown",
      "metadata": {
        "id": "qJe2NK_6Qq-d"
      },
      "source": [
        "Create and train the RF model"
      ]
    },
    {
      "cell_type": "code",
      "metadata": {
        "id": "JVF5FhhqADWz",
        "outputId": "43f4f0ff-5cf9-4859-ed15-5573c559f0ed",
        "colab": {
          "base_uri": "https://localhost:8080/",
          "height": 34
        }
      },
      "source": [
        "#Random Forest Classifier comes from SciKit Learn Library imported above\n",
        "rf_clf = RandomForestClassifier(max_depth=2, random_state=0, n_estimators=100)\n",
        "t0 = time.time()\n",
        "rf_clf.fit(X_train, y_train)\n",
        "t1 = time.time()\n",
        "print(\"Time taken to train RFC:\", t1-t0)"
      ],
      "execution_count": 7,
      "outputs": [
        {
          "output_type": "stream",
          "text": [
            "Time taken to train RFC: 1.9714558124542236\n"
          ],
          "name": "stdout"
        }
      ]
    },
    {
      "cell_type": "markdown",
      "metadata": {
        "id": "PWE-vDU-QyoL"
      },
      "source": [
        "Lets try some sample predictions and check their accuracy manually:"
      ]
    },
    {
      "cell_type": "code",
      "metadata": {
        "id": "G55pdQApEm_Q",
        "outputId": "4f7570ab-75e6-4414-c1ac-5436354afdc6",
        "colab": {
          "base_uri": "https://localhost:8080/",
          "height": 34
        }
      },
      "source": [
        "test_data_point = 23 #For checking a random (23rd) tuple/datapoint in our training data set\n",
        "print(\"The RF model predicts this value to be:\", rf_clf.predict([X_test.iloc[test_data_point]]))"
      ],
      "execution_count": 8,
      "outputs": [
        {
          "output_type": "stream",
          "text": [
            "The RF model predicts this value to be: [7]\n"
          ],
          "name": "stdout"
        }
      ]
    },
    {
      "cell_type": "code",
      "metadata": {
        "id": "d7mjy0W4FYDo"
      },
      "source": [
        "#Let us check what is the actual test data point hand written digit\n"
      ],
      "execution_count": 22,
      "outputs": []
    },
    {
      "cell_type": "markdown",
      "metadata": {
        "id": "-MWDK6i9RDst"
      },
      "source": [
        "Let us now predict the results for complete test data set and check its accuracy by comparing predictions with acutal values"
      ]
    },
    {
      "cell_type": "code",
      "metadata": {
        "id": "qf8TZSepGYcp"
      },
      "source": [
        "#Get the predictions over complete test data set using RF Classifier\n",
        "predictions = rf_clf.predict(X_test)"
      ],
      "execution_count": 10,
      "outputs": []
    },
    {
      "cell_type": "code",
      "metadata": {
        "id": "ZwObJJ0vJ1qb",
        "outputId": "3e9ee3bb-8e97-424b-fbd9-485c1136e0c9",
        "colab": {
          "base_uri": "https://localhost:8080/",
          "height": 34
        }
      },
      "source": [
        "#Compare predictions with actual values to get the accuracy of our model\n",
        "actuals = y_test.values\n",
        "result = (actuals==predictions)\n",
        "correct_pred = 0\n",
        "for r in result:\n",
        "  if(r==True):\n",
        "    correct_pred += 1\n",
        "\n",
        "acc = round(100*correct_pred/9999, 2)\n",
        "acc"
      ],
      "execution_count": 11,
      "outputs": [
        {
          "output_type": "execute_result",
          "data": {
            "text/plain": [
              "62.43"
            ]
          },
          "metadata": {
            "tags": []
          },
          "execution_count": 11
        }
      ]
    },
    {
      "cell_type": "markdown",
      "metadata": {
        "id": "MOSElgMNRT4D"
      },
      "source": [
        "Accuracy check using metrics library utility"
      ]
    },
    {
      "cell_type": "code",
      "metadata": {
        "id": "kwwOHFGeHoRm",
        "outputId": "bd6b2990-ca85-40c6-e6a4-99ed0cb31ab6",
        "colab": {
          "base_uri": "https://localhost:8080/",
          "height": 34
        }
      },
      "source": [
        "#sklearn has inbuilt library to calculate accuracy\n",
        "from sklearn import metrics\n",
        "pscore = metrics.accuracy_score(y_test, predictions)\n",
        "print(\"Random Forest Classifier Accuracy:\", round(100*pscore, 2),\"%\")"
      ],
      "execution_count": 12,
      "outputs": [
        {
          "output_type": "stream",
          "text": [
            "Random Forest Classifier Accuracy: 62.43 %\n"
          ],
          "name": "stdout"
        }
      ]
    },
    {
      "cell_type": "markdown",
      "metadata": {
        "id": "9zTD68us2cOs"
      },
      "source": [
        "**Classification using Support Vector Machine Classifier**"
      ]
    },
    {
      "cell_type": "code",
      "metadata": {
        "id": "AUgXxXeXHvcy",
        "outputId": "1063a75d-c74b-4df1-848a-a83ed9f855ee",
        "colab": {
          "base_uri": "https://localhost:8080/",
          "height": 34
        }
      },
      "source": [
        "#Import SVC from sklearn\n",
        "from sklearn.svm import SVC\n",
        "sv_clf = SVC(gamma='auto', verbose=True)\n",
        "t0 = time.time()\n",
        "sv_clf.fit(X_train, y_train) #Re-use the X_train and y_train created above\n",
        "t1 = time.time()\n",
        "print(\"Time taken to train SVC:\", t1-t0)"
      ],
      "execution_count": 36,
      "outputs": [
        {
          "output_type": "stream",
          "text": [
            "[LibSVM]Time taken to train SVC: 1041.5941321849823\n"
          ],
          "name": "stdout"
        }
      ]
    },
    {
      "cell_type": "code",
      "metadata": {
        "id": "MYDmPypeR7gw",
        "outputId": "2cbe5ea8-c64b-4a4f-9fc1-445d748fd818",
        "colab": {
          "base_uri": "https://localhost:8080/",
          "height": 34
        }
      },
      "source": [
        "predictions = sv_clf.predict(X_test)\n",
        "t2 = time.time()\n",
        "print(\"Time taken to predict using SVC:\", t2-t1)"
      ],
      "execution_count": 37,
      "outputs": [
        {
          "output_type": "stream",
          "text": [
            "Time taken to predict using SVC: 265.5771734714508\n"
          ],
          "name": "stdout"
        }
      ]
    },
    {
      "cell_type": "code",
      "metadata": {
        "id": "Mm6iSM9-VUiY",
        "outputId": "87e41816-f77c-49d8-bd57-38b88a7f795c",
        "colab": {
          "base_uri": "https://localhost:8080/",
          "height": 34
        }
      },
      "source": [
        "pscore = metrics.accuracy_score(y_test, predictions)\n",
        "print(\"Support Vector Classifier Accuracy:\", round(100*pscore, 2),\"%\")"
      ],
      "execution_count": 38,
      "outputs": [
        {
          "output_type": "stream",
          "text": [
            "Support Vector Classifier Accuracy: 11.35 %\n"
          ],
          "name": "stdout"
        }
      ]
    },
    {
      "cell_type": "markdown",
      "metadata": {
        "id": "DIHmOlp72l2y"
      },
      "source": [
        "Gives a very poor accuracy of 11.35 %"
      ]
    },
    {
      "cell_type": "markdown",
      "metadata": {
        "id": "CLxhIuXn2wrU"
      },
      "source": [
        "**Classification using Dense Neural Network**"
      ]
    },
    {
      "cell_type": "code",
      "metadata": {
        "id": "h52Z-aluVeAn"
      },
      "source": [
        "# Import Keras\n",
        "import keras\n",
        "from keras.models import Sequential\n",
        "from keras.layers import Dense"
      ],
      "execution_count": 13,
      "outputs": []
    },
    {
      "cell_type": "code",
      "metadata": {
        "id": "7H6sGIy8WKc9"
      },
      "source": [
        "# Neural network\n",
        "model = Sequential()\n",
        "model.add(Dense(32, input_dim=784, activation='relu'))\n",
        "model.add(Dense(32, activation='relu'))\n",
        "model.add(Dense(10, activation='softmax'))"
      ],
      "execution_count": 14,
      "outputs": []
    },
    {
      "cell_type": "code",
      "metadata": {
        "id": "XwAk3g7kXHNw",
        "outputId": "b420558b-4a63-4115-b087-b4fee5bbe2be",
        "colab": {
          "base_uri": "https://localhost:8080/",
          "height": 255
        }
      },
      "source": [
        "#Check the network architecture\n",
        "model.summary()\n",
        "model.compile(loss='categorical_crossentropy', optimizer='adam', metrics=['accuracy'])"
      ],
      "execution_count": 15,
      "outputs": [
        {
          "output_type": "stream",
          "text": [
            "Model: \"sequential\"\n",
            "_________________________________________________________________\n",
            "Layer (type)                 Output Shape              Param #   \n",
            "=================================================================\n",
            "dense (Dense)                (None, 32)                25120     \n",
            "_________________________________________________________________\n",
            "dense_1 (Dense)              (None, 32)                1056      \n",
            "_________________________________________________________________\n",
            "dense_2 (Dense)              (None, 10)                330       \n",
            "=================================================================\n",
            "Total params: 26,506\n",
            "Trainable params: 26,506\n",
            "Non-trainable params: 0\n",
            "_________________________________________________________________\n"
          ],
          "name": "stdout"
        }
      ]
    },
    {
      "cell_type": "code",
      "metadata": {
        "id": "g9yG_b2mZvuo",
        "outputId": "87a07653-ee11-4824-ddef-f30fe839b288",
        "colab": {
          "base_uri": "https://localhost:8080/",
          "height": 321,
          "referenced_widgets": [
            "50944b7211d64ecaab89d2d7b791aec5",
            "d9cc7ec1ce1b4578afbcdd1959efdb4d",
            "b1eb938101524d76ba2873c7e27724ed",
            "90683c0390744216a3079531f401e7ce",
            "ce407ab290df4ccfb3a20eb312bfcfca",
            "5ece85012fb2417cb8d9ce3a7329ce60",
            "dbc86baab1084346aed28eafa7e79c38",
            "29f860078b2d48b28f9c7c6dc0ae4cd5"
          ]
        }
      },
      "source": [
        "y_train_nn = pd.DataFrame(columns=[list(range(0,10))])\n",
        "\n",
        "for i, label in tn(enumerate(y_train)):\n",
        "  y_train_nn.loc[i, label] = 1\n",
        "y_train_nn.fillna(0, inplace=True)\n",
        "\n",
        "print(y_train_nn.shape)\n",
        "y_train_nn.head()\n",
        "  "
      ],
      "execution_count": 16,
      "outputs": [
        {
          "output_type": "stream",
          "text": [
            "/usr/local/lib/python3.6/dist-packages/ipykernel_launcher.py:3: TqdmDeprecationWarning: This function will be removed in tqdm==5.0.0\n",
            "Please use `tqdm.notebook.tqdm` instead of `tqdm.tqdm_notebook`\n",
            "  This is separate from the ipykernel package so we can avoid doing imports until\n"
          ],
          "name": "stderr"
        },
        {
          "output_type": "display_data",
          "data": {
            "application/vnd.jupyter.widget-view+json": {
              "model_id": "50944b7211d64ecaab89d2d7b791aec5",
              "version_minor": 0,
              "version_major": 2
            },
            "text/plain": [
              "HBox(children=(FloatProgress(value=1.0, bar_style='info', max=1.0), HTML(value='')))"
            ]
          },
          "metadata": {
            "tags": []
          }
        },
        {
          "output_type": "stream",
          "text": [
            "\n",
            "(19999, 10)\n"
          ],
          "name": "stdout"
        },
        {
          "output_type": "execute_result",
          "data": {
            "text/html": [
              "<div>\n",
              "<style scoped>\n",
              "    .dataframe tbody tr th:only-of-type {\n",
              "        vertical-align: middle;\n",
              "    }\n",
              "\n",
              "    .dataframe tbody tr th {\n",
              "        vertical-align: top;\n",
              "    }\n",
              "\n",
              "    .dataframe thead tr th {\n",
              "        text-align: left;\n",
              "    }\n",
              "</style>\n",
              "<table border=\"1\" class=\"dataframe\">\n",
              "  <thead>\n",
              "    <tr>\n",
              "      <th></th>\n",
              "      <th>0</th>\n",
              "      <th>1</th>\n",
              "      <th>2</th>\n",
              "      <th>3</th>\n",
              "      <th>4</th>\n",
              "      <th>5</th>\n",
              "      <th>6</th>\n",
              "      <th>7</th>\n",
              "      <th>8</th>\n",
              "      <th>9</th>\n",
              "    </tr>\n",
              "  </thead>\n",
              "  <tbody>\n",
              "    <tr>\n",
              "      <th>0</th>\n",
              "      <td>0</td>\n",
              "      <td>0</td>\n",
              "      <td>0</td>\n",
              "      <td>0</td>\n",
              "      <td>0</td>\n",
              "      <td>1</td>\n",
              "      <td>0</td>\n",
              "      <td>0</td>\n",
              "      <td>0</td>\n",
              "      <td>0</td>\n",
              "    </tr>\n",
              "    <tr>\n",
              "      <th>1</th>\n",
              "      <td>0</td>\n",
              "      <td>0</td>\n",
              "      <td>0</td>\n",
              "      <td>0</td>\n",
              "      <td>0</td>\n",
              "      <td>0</td>\n",
              "      <td>0</td>\n",
              "      <td>1</td>\n",
              "      <td>0</td>\n",
              "      <td>0</td>\n",
              "    </tr>\n",
              "    <tr>\n",
              "      <th>2</th>\n",
              "      <td>0</td>\n",
              "      <td>0</td>\n",
              "      <td>0</td>\n",
              "      <td>0</td>\n",
              "      <td>0</td>\n",
              "      <td>0</td>\n",
              "      <td>0</td>\n",
              "      <td>0</td>\n",
              "      <td>0</td>\n",
              "      <td>1</td>\n",
              "    </tr>\n",
              "    <tr>\n",
              "      <th>3</th>\n",
              "      <td>0</td>\n",
              "      <td>0</td>\n",
              "      <td>0</td>\n",
              "      <td>0</td>\n",
              "      <td>0</td>\n",
              "      <td>1</td>\n",
              "      <td>0</td>\n",
              "      <td>0</td>\n",
              "      <td>0</td>\n",
              "      <td>0</td>\n",
              "    </tr>\n",
              "    <tr>\n",
              "      <th>4</th>\n",
              "      <td>0</td>\n",
              "      <td>0</td>\n",
              "      <td>1</td>\n",
              "      <td>0</td>\n",
              "      <td>0</td>\n",
              "      <td>0</td>\n",
              "      <td>0</td>\n",
              "      <td>0</td>\n",
              "      <td>0</td>\n",
              "      <td>0</td>\n",
              "    </tr>\n",
              "  </tbody>\n",
              "</table>\n",
              "</div>"
            ],
            "text/plain": [
              "   0  1  2  3  4  5  6  7  8  9\n",
              "0  0  0  0  0  0  1  0  0  0  0\n",
              "1  0  0  0  0  0  0  0  1  0  0\n",
              "2  0  0  0  0  0  0  0  0  0  1\n",
              "3  0  0  0  0  0  1  0  0  0  0\n",
              "4  0  0  1  0  0  0  0  0  0  0"
            ]
          },
          "metadata": {
            "tags": []
          },
          "execution_count": 16
        }
      ]
    },
    {
      "cell_type": "code",
      "metadata": {
        "id": "9UdKtCPzXhN5",
        "outputId": "eec47427-911e-479a-c582-5fab13ab39ab",
        "colab": {
          "base_uri": "https://localhost:8080/",
          "height": 1000
        }
      },
      "source": [
        "history = model.fit(X_train, y_train_nn, epochs=100, batch_size=64)"
      ],
      "execution_count": 17,
      "outputs": [
        {
          "output_type": "stream",
          "text": [
            "Epoch 1/100\n",
            "313/313 [==============================] - 1s 2ms/step - loss: 3.7712 - accuracy: 0.4709\n",
            "Epoch 2/100\n",
            "313/313 [==============================] - 1s 2ms/step - loss: 1.0261 - accuracy: 0.7174\n",
            "Epoch 3/100\n",
            "313/313 [==============================] - 1s 2ms/step - loss: 0.6870 - accuracy: 0.8116\n",
            "Epoch 4/100\n",
            "313/313 [==============================] - 1s 2ms/step - loss: 0.5530 - accuracy: 0.8512\n",
            "Epoch 5/100\n",
            "313/313 [==============================] - 1s 2ms/step - loss: 0.4794 - accuracy: 0.8711\n",
            "Epoch 6/100\n",
            "313/313 [==============================] - 1s 2ms/step - loss: 0.4255 - accuracy: 0.8869\n",
            "Epoch 7/100\n",
            "313/313 [==============================] - 1s 2ms/step - loss: 0.3814 - accuracy: 0.8974\n",
            "Epoch 8/100\n",
            "313/313 [==============================] - 1s 2ms/step - loss: 0.3514 - accuracy: 0.9045\n",
            "Epoch 9/100\n",
            "313/313 [==============================] - 1s 2ms/step - loss: 0.3377 - accuracy: 0.9087\n",
            "Epoch 10/100\n",
            "313/313 [==============================] - 1s 2ms/step - loss: 0.3039 - accuracy: 0.9159\n",
            "Epoch 11/100\n",
            "313/313 [==============================] - 1s 2ms/step - loss: 0.2974 - accuracy: 0.9184\n",
            "Epoch 12/100\n",
            "313/313 [==============================] - 1s 2ms/step - loss: 0.2841 - accuracy: 0.9235\n",
            "Epoch 13/100\n",
            "313/313 [==============================] - 1s 2ms/step - loss: 0.2722 - accuracy: 0.9234\n",
            "Epoch 14/100\n",
            "313/313 [==============================] - 1s 2ms/step - loss: 0.2555 - accuracy: 0.9313\n",
            "Epoch 15/100\n",
            "313/313 [==============================] - 1s 2ms/step - loss: 0.2552 - accuracy: 0.9301\n",
            "Epoch 16/100\n",
            "313/313 [==============================] - 1s 2ms/step - loss: 0.2435 - accuracy: 0.9322\n",
            "Epoch 17/100\n",
            "313/313 [==============================] - 1s 2ms/step - loss: 0.2382 - accuracy: 0.9338\n",
            "Epoch 18/100\n",
            "313/313 [==============================] - 1s 2ms/step - loss: 0.2259 - accuracy: 0.9374\n",
            "Epoch 19/100\n",
            "313/313 [==============================] - 1s 2ms/step - loss: 0.2183 - accuracy: 0.9380\n",
            "Epoch 20/100\n",
            "313/313 [==============================] - 1s 2ms/step - loss: 0.2185 - accuracy: 0.9375\n",
            "Epoch 21/100\n",
            "313/313 [==============================] - 1s 2ms/step - loss: 0.2098 - accuracy: 0.9413\n",
            "Epoch 22/100\n",
            "313/313 [==============================] - 1s 2ms/step - loss: 0.2087 - accuracy: 0.9405\n",
            "Epoch 23/100\n",
            "313/313 [==============================] - 1s 2ms/step - loss: 0.1984 - accuracy: 0.9449\n",
            "Epoch 24/100\n",
            "313/313 [==============================] - 1s 2ms/step - loss: 0.1915 - accuracy: 0.9454\n",
            "Epoch 25/100\n",
            "313/313 [==============================] - 1s 2ms/step - loss: 0.1919 - accuracy: 0.9456\n",
            "Epoch 26/100\n",
            "313/313 [==============================] - 1s 2ms/step - loss: 0.1843 - accuracy: 0.9456\n",
            "Epoch 27/100\n",
            "313/313 [==============================] - 1s 2ms/step - loss: 0.1831 - accuracy: 0.9448\n",
            "Epoch 28/100\n",
            "313/313 [==============================] - 1s 2ms/step - loss: 0.1826 - accuracy: 0.9474\n",
            "Epoch 29/100\n",
            "313/313 [==============================] - 1s 2ms/step - loss: 0.1753 - accuracy: 0.9480\n",
            "Epoch 30/100\n",
            "313/313 [==============================] - 1s 2ms/step - loss: 0.1653 - accuracy: 0.9505\n",
            "Epoch 31/100\n",
            "313/313 [==============================] - 1s 2ms/step - loss: 0.1583 - accuracy: 0.9524\n",
            "Epoch 32/100\n",
            "313/313 [==============================] - 1s 2ms/step - loss: 0.1634 - accuracy: 0.9517\n",
            "Epoch 33/100\n",
            "313/313 [==============================] - 1s 2ms/step - loss: 0.1625 - accuracy: 0.9525\n",
            "Epoch 34/100\n",
            "313/313 [==============================] - 1s 2ms/step - loss: 0.1631 - accuracy: 0.9511\n",
            "Epoch 35/100\n",
            "313/313 [==============================] - 1s 2ms/step - loss: 0.1550 - accuracy: 0.9546\n",
            "Epoch 36/100\n",
            "313/313 [==============================] - 1s 2ms/step - loss: 0.1533 - accuracy: 0.9557\n",
            "Epoch 37/100\n",
            "313/313 [==============================] - 1s 2ms/step - loss: 0.1468 - accuracy: 0.9560\n",
            "Epoch 38/100\n",
            "313/313 [==============================] - 1s 2ms/step - loss: 0.1528 - accuracy: 0.9549\n",
            "Epoch 39/100\n",
            "313/313 [==============================] - 1s 2ms/step - loss: 0.1461 - accuracy: 0.9559\n",
            "Epoch 40/100\n",
            "313/313 [==============================] - 1s 2ms/step - loss: 0.1452 - accuracy: 0.9565\n",
            "Epoch 41/100\n",
            "313/313 [==============================] - 1s 2ms/step - loss: 0.1458 - accuracy: 0.9580\n",
            "Epoch 42/100\n",
            "313/313 [==============================] - 1s 2ms/step - loss: 0.1411 - accuracy: 0.9596\n",
            "Epoch 43/100\n",
            "313/313 [==============================] - 1s 2ms/step - loss: 0.1362 - accuracy: 0.9597\n",
            "Epoch 44/100\n",
            "313/313 [==============================] - 1s 2ms/step - loss: 0.1350 - accuracy: 0.9597\n",
            "Epoch 45/100\n",
            "313/313 [==============================] - 1s 2ms/step - loss: 0.1316 - accuracy: 0.9603\n",
            "Epoch 46/100\n",
            "313/313 [==============================] - 1s 2ms/step - loss: 0.1388 - accuracy: 0.9600\n",
            "Epoch 47/100\n",
            "313/313 [==============================] - 1s 2ms/step - loss: 0.1310 - accuracy: 0.9605\n",
            "Epoch 48/100\n",
            "313/313 [==============================] - 1s 2ms/step - loss: 0.1306 - accuracy: 0.9617\n",
            "Epoch 49/100\n",
            "313/313 [==============================] - 1s 2ms/step - loss: 0.1313 - accuracy: 0.9626\n",
            "Epoch 50/100\n",
            "313/313 [==============================] - 1s 2ms/step - loss: 0.1306 - accuracy: 0.9627\n",
            "Epoch 51/100\n",
            "313/313 [==============================] - 1s 2ms/step - loss: 0.1209 - accuracy: 0.9637\n",
            "Epoch 52/100\n",
            "313/313 [==============================] - 1s 2ms/step - loss: 0.1244 - accuracy: 0.9633\n",
            "Epoch 53/100\n",
            "313/313 [==============================] - 1s 2ms/step - loss: 0.1224 - accuracy: 0.9637\n",
            "Epoch 54/100\n",
            "313/313 [==============================] - 1s 2ms/step - loss: 0.1176 - accuracy: 0.9657\n",
            "Epoch 55/100\n",
            "313/313 [==============================] - 1s 2ms/step - loss: 0.1153 - accuracy: 0.9655\n",
            "Epoch 56/100\n",
            "313/313 [==============================] - 1s 2ms/step - loss: 0.1121 - accuracy: 0.9673\n",
            "Epoch 57/100\n",
            "313/313 [==============================] - 1s 2ms/step - loss: 0.1138 - accuracy: 0.9655\n",
            "Epoch 58/100\n",
            "313/313 [==============================] - 1s 2ms/step - loss: 0.1215 - accuracy: 0.9648\n",
            "Epoch 59/100\n",
            "313/313 [==============================] - 1s 2ms/step - loss: 0.1154 - accuracy: 0.9644\n",
            "Epoch 60/100\n",
            "313/313 [==============================] - 1s 2ms/step - loss: 0.1109 - accuracy: 0.9659\n",
            "Epoch 61/100\n",
            "313/313 [==============================] - 1s 2ms/step - loss: 0.1161 - accuracy: 0.9642\n",
            "Epoch 62/100\n",
            "313/313 [==============================] - 1s 2ms/step - loss: 0.1050 - accuracy: 0.9680\n",
            "Epoch 63/100\n",
            "313/313 [==============================] - 1s 2ms/step - loss: 0.1052 - accuracy: 0.9682\n",
            "Epoch 64/100\n",
            "313/313 [==============================] - 1s 2ms/step - loss: 0.1057 - accuracy: 0.9673\n",
            "Epoch 65/100\n",
            "313/313 [==============================] - 1s 2ms/step - loss: 0.1061 - accuracy: 0.9673\n",
            "Epoch 66/100\n",
            "313/313 [==============================] - 1s 2ms/step - loss: 0.1070 - accuracy: 0.9684\n",
            "Epoch 67/100\n",
            "313/313 [==============================] - 1s 2ms/step - loss: 0.1122 - accuracy: 0.9668\n",
            "Epoch 68/100\n",
            "313/313 [==============================] - 1s 2ms/step - loss: 0.1007 - accuracy: 0.9681\n",
            "Epoch 69/100\n",
            "313/313 [==============================] - 1s 2ms/step - loss: 0.1022 - accuracy: 0.9704\n",
            "Epoch 70/100\n",
            "313/313 [==============================] - 1s 2ms/step - loss: 0.1004 - accuracy: 0.9694\n",
            "Epoch 71/100\n",
            "313/313 [==============================] - 1s 2ms/step - loss: 0.0967 - accuracy: 0.9704\n",
            "Epoch 72/100\n",
            "313/313 [==============================] - 1s 2ms/step - loss: 0.0956 - accuracy: 0.9710\n",
            "Epoch 73/100\n",
            "313/313 [==============================] - 1s 2ms/step - loss: 0.1015 - accuracy: 0.9699\n",
            "Epoch 74/100\n",
            "313/313 [==============================] - 1s 2ms/step - loss: 0.1025 - accuracy: 0.9695\n",
            "Epoch 75/100\n",
            "313/313 [==============================] - 1s 2ms/step - loss: 0.0973 - accuracy: 0.9692\n",
            "Epoch 76/100\n",
            "313/313 [==============================] - 1s 2ms/step - loss: 0.1017 - accuracy: 0.9701\n",
            "Epoch 77/100\n",
            "313/313 [==============================] - 1s 2ms/step - loss: 0.0992 - accuracy: 0.9697\n",
            "Epoch 78/100\n",
            "313/313 [==============================] - 1s 2ms/step - loss: 0.0970 - accuracy: 0.9712\n",
            "Epoch 79/100\n",
            "313/313 [==============================] - 1s 2ms/step - loss: 0.0875 - accuracy: 0.9747\n",
            "Epoch 80/100\n",
            "313/313 [==============================] - 1s 2ms/step - loss: 0.1008 - accuracy: 0.9704\n",
            "Epoch 81/100\n",
            "313/313 [==============================] - 1s 2ms/step - loss: 0.0950 - accuracy: 0.9710\n",
            "Epoch 82/100\n",
            "313/313 [==============================] - 1s 2ms/step - loss: 0.0970 - accuracy: 0.9707\n",
            "Epoch 83/100\n",
            "313/313 [==============================] - 1s 2ms/step - loss: 0.0869 - accuracy: 0.9733\n",
            "Epoch 84/100\n",
            "313/313 [==============================] - 1s 2ms/step - loss: 0.0945 - accuracy: 0.9709\n",
            "Epoch 85/100\n",
            "313/313 [==============================] - 1s 3ms/step - loss: 0.0861 - accuracy: 0.9734\n",
            "Epoch 86/100\n",
            "313/313 [==============================] - 1s 2ms/step - loss: 0.0879 - accuracy: 0.9736\n",
            "Epoch 87/100\n",
            "313/313 [==============================] - 1s 2ms/step - loss: 0.0847 - accuracy: 0.9738\n",
            "Epoch 88/100\n",
            "313/313 [==============================] - 1s 2ms/step - loss: 0.0924 - accuracy: 0.9723\n",
            "Epoch 89/100\n",
            "313/313 [==============================] - 1s 2ms/step - loss: 0.0857 - accuracy: 0.9738\n",
            "Epoch 90/100\n",
            "313/313 [==============================] - 1s 2ms/step - loss: 0.0883 - accuracy: 0.9728\n",
            "Epoch 91/100\n",
            "313/313 [==============================] - 1s 2ms/step - loss: 0.0826 - accuracy: 0.9756\n",
            "Epoch 92/100\n",
            "313/313 [==============================] - 1s 2ms/step - loss: 0.0862 - accuracy: 0.9737\n",
            "Epoch 93/100\n",
            "313/313 [==============================] - 1s 2ms/step - loss: 0.0823 - accuracy: 0.9752\n",
            "Epoch 94/100\n",
            "313/313 [==============================] - 1s 2ms/step - loss: 0.0881 - accuracy: 0.9737\n",
            "Epoch 95/100\n",
            "313/313 [==============================] - 1s 2ms/step - loss: 0.0843 - accuracy: 0.9749\n",
            "Epoch 96/100\n",
            "313/313 [==============================] - 1s 2ms/step - loss: 0.0884 - accuracy: 0.9729\n",
            "Epoch 97/100\n",
            "313/313 [==============================] - 1s 2ms/step - loss: 0.0846 - accuracy: 0.9746\n",
            "Epoch 98/100\n",
            "313/313 [==============================] - 1s 2ms/step - loss: 0.0875 - accuracy: 0.9752\n",
            "Epoch 99/100\n",
            "313/313 [==============================] - 1s 2ms/step - loss: 0.0777 - accuracy: 0.9758\n",
            "Epoch 100/100\n",
            "313/313 [==============================] - 1s 2ms/step - loss: 0.0776 - accuracy: 0.9755\n"
          ],
          "name": "stdout"
        }
      ]
    },
    {
      "cell_type": "code",
      "metadata": {
        "id": "Rt17e8FI9OGA",
        "outputId": "d398d49d-2443-42b0-a3c8-15914fd79eda",
        "colab": {
          "base_uri": "https://localhost:8080/",
          "height": 324
        }
      },
      "source": [
        "pd.DataFrame(history.history).plot(figsize=(8, 5))\n",
        "pt.grid(True)\n",
        "pt.gca().set_ylim(0, 1) \n",
        "pt.show()"
      ],
      "execution_count": 18,
      "outputs": [
        {
          "output_type": "display_data",
          "data": {
            "image/png": "[encoded data removed]",
            "text/plain": [
              "<Figure size 576x360 with 1 Axes>"
            ]
          },
          "metadata": {
            "tags": [],
            "needs_background": "light"
          }
        }
      ]
    },
    {
      "cell_type": "code",
      "metadata": {
        "id": "fQLpWxzaXn-x"
      },
      "source": [
        "y_pred = model.predict(X_test)\n",
        "#Converting predictions to label\n",
        "predictions = []\n",
        "for i in range(len(y_pred)):\n",
        "    predictions.append(np.argmax(y_pred[i]))\n",
        "#print(predictions)"
      ],
      "execution_count": 19,
      "outputs": []
    },
    {
      "cell_type": "code",
      "metadata": {
        "id": "o11H3srwX_yG",
        "outputId": "94828b35-0e77-4db3-936e-9ac31fb9a01b",
        "colab": {
          "base_uri": "https://localhost:8080/",
          "height": 34
        }
      },
      "source": [
        "pscore = metrics.accuracy_score(y_test, predictions)\n",
        "print(\"Neural Network Model Accuracy:\", round(100*pscore, 2),\"%\")"
      ],
      "execution_count": 20,
      "outputs": [
        {
          "output_type": "stream",
          "text": [
            "Neural Network Model Accuracy: 92.53 %\n"
          ],
          "name": "stdout"
        }
      ]
    },
    {
      "cell_type": "code",
      "metadata": {
        "id": "oXhRso-M3S2u",
        "outputId": "f82e665b-fd8d-4d70-c1e9-a2064e68f598",
        "colab": {
          "base_uri": "https://localhost:8080/",
          "height": 34
        }
      },
      "source": [
        "TestX = np.array(X_test.iloc[test_data_point])[np.newaxis]\n",
        "np.argmax(model.predict(TestX))"
      ],
      "execution_count": 21,
      "outputs": [
        {
          "output_type": "execute_result",
          "data": {
            "text/plain": [
              "4"
            ]
          },
          "metadata": {
            "tags": []
          },
          "execution_count": 21
        }
      ]
    },
    {
      "cell_type": "markdown",
      "metadata": {
        "id": "gKNj2Q4WACdM"
      },
      "source": [
        "# **Some more magic now!**"
      ]
    },
    {
      "cell_type": "code",
      "metadata": {
        "id": "pO-qom7c6Vj1"
      },
      "source": [
        "#!pip install pycaret\n",
        "from pycaret.classification import *"
      ],
      "execution_count": 3,
      "outputs": []
    },
    {
      "cell_type": "markdown",
      "metadata": {
        "id": "_8N98E5gCQzb"
      },
      "source": [
        "The setup() function initializes the environment in pycaret and creates the transformation pipeline to prepare the data for modeling and deployment."
      ]
    },
    {
      "cell_type": "code",
      "metadata": {
        "id": "xBx2kvaa81JN",
        "outputId": "b9bb721e-f2da-4020-dd9c-062751fc6cc6",
        "colab": {
          "base_uri": "https://localhost:8080/",
          "height": 981,
          "referenced_widgets": [
            "014a62ab7fe5481792b4ca9d28156eb5",
            "7e59466ea0724b0e820d04c467917573",
            "9c4dd99d7d2f432b95983990bf1a8d4b",
            "ea20d3bd77444417b8113f41028d55fa",
            "31f8014ff2f345588f4bccbc66860e3a",
            "094092cb6f264b78a450975c11013ea3"
          ]
        }
      },
      "source": [
        "exp_mclf101 = setup(data = df_train, target = '6', session_id=123) "
      ],
      "execution_count": 15,
      "outputs": [
        {
          "output_type": "stream",
          "text": [
            "Setup Succesfully Completed!\n"
          ],
          "name": "stdout"
        },
        {
          "output_type": "display_data",
          "data": {
            "text/html": [
              "<style  type=\"text/css\" >\n",
              "</style><table id=\"T_d3412826_0f73_11eb_8198_0242ac1c0002\" ><thead>    <tr>        <th class=\"blank level0\" ></th>        <th class=\"col_heading level0 col0\" >Description</th>        <th class=\"col_heading level0 col1\" >Value</th>    </tr></thead><tbody>\n",
              "                <tr>\n",
              "                        <th id=\"T_d3412826_0f73_11eb_8198_0242ac1c0002level0_row0\" class=\"row_heading level0 row0\" >0</th>\n",
              "                        <td id=\"T_d3412826_0f73_11eb_8198_0242ac1c0002row0_col0\" class=\"data row0 col0\" >session_id</td>\n",
              "                        <td id=\"T_d3412826_0f73_11eb_8198_0242ac1c0002row0_col1\" class=\"data row0 col1\" >123</td>\n",
              "            </tr>\n",
              "            <tr>\n",
              "                        <th id=\"T_d3412826_0f73_11eb_8198_0242ac1c0002level0_row1\" class=\"row_heading level0 row1\" >1</th>\n",
              "                        <td id=\"T_d3412826_0f73_11eb_8198_0242ac1c0002row1_col0\" class=\"data row1 col0\" >Target Type</td>\n",
              "                        <td id=\"T_d3412826_0f73_11eb_8198_0242ac1c0002row1_col1\" class=\"data row1 col1\" >Multiclass</td>\n",
              "            </tr>\n",
              "            <tr>\n",
              "                        <th id=\"T_d3412826_0f73_11eb_8198_0242ac1c0002level0_row2\" class=\"row_heading level0 row2\" >2</th>\n",
              "                        <td id=\"T_d3412826_0f73_11eb_8198_0242ac1c0002row2_col0\" class=\"data row2 col0\" >Label Encoded</td>\n",
              "                        <td id=\"T_d3412826_0f73_11eb_8198_0242ac1c0002row2_col1\" class=\"data row2 col1\" >0: 0, 1: 1, 2: 2, 3: 3, 4: 4, 5: 5, 6: 6, 7: 7, 8: 8, 9: 9</td>\n",
              "            </tr>\n",
              "            <tr>\n",
              "                        <th id=\"T_d3412826_0f73_11eb_8198_0242ac1c0002level0_row3\" class=\"row_heading level0 row3\" >3</th>\n",
              "                        <td id=\"T_d3412826_0f73_11eb_8198_0242ac1c0002row3_col0\" class=\"data row3 col0\" >Original Data</td>\n",
              "                        <td id=\"T_d3412826_0f73_11eb_8198_0242ac1c0002row3_col1\" class=\"data row3 col1\" >(19999, 785)</td>\n",
              "            </tr>\n",
              "            <tr>\n",
              "                        <th id=\"T_d3412826_0f73_11eb_8198_0242ac1c0002level0_row4\" class=\"row_heading level0 row4\" >4</th>\n",
              "                        <td id=\"T_d3412826_0f73_11eb_8198_0242ac1c0002row4_col0\" class=\"data row4 col0\" >Missing Values </td>\n",
              "                        <td id=\"T_d3412826_0f73_11eb_8198_0242ac1c0002row4_col1\" class=\"data row4 col1\" >False</td>\n",
              "            </tr>\n",
              "            <tr>\n",
              "                        <th id=\"T_d3412826_0f73_11eb_8198_0242ac1c0002level0_row5\" class=\"row_heading level0 row5\" >5</th>\n",
              "                        <td id=\"T_d3412826_0f73_11eb_8198_0242ac1c0002row5_col0\" class=\"data row5 col0\" >Numeric Features </td>\n",
              "                        <td id=\"T_d3412826_0f73_11eb_8198_0242ac1c0002row5_col1\" class=\"data row5 col1\" >596</td>\n",
              "            </tr>\n",
              "            <tr>\n",
              "                        <th id=\"T_d3412826_0f73_11eb_8198_0242ac1c0002level0_row6\" class=\"row_heading level0 row6\" >6</th>\n",
              "                        <td id=\"T_d3412826_0f73_11eb_8198_0242ac1c0002row6_col0\" class=\"data row6 col0\" >Categorical Features </td>\n",
              "                        <td id=\"T_d3412826_0f73_11eb_8198_0242ac1c0002row6_col1\" class=\"data row6 col1\" >188</td>\n",
              "            </tr>\n",
              "            <tr>\n",
              "                        <th id=\"T_d3412826_0f73_11eb_8198_0242ac1c0002level0_row7\" class=\"row_heading level0 row7\" >7</th>\n",
              "                        <td id=\"T_d3412826_0f73_11eb_8198_0242ac1c0002row7_col0\" class=\"data row7 col0\" >Ordinal Features </td>\n",
              "                        <td id=\"T_d3412826_0f73_11eb_8198_0242ac1c0002row7_col1\" class=\"data row7 col1\" >False</td>\n",
              "            </tr>\n",
              "            <tr>\n",
              "                        <th id=\"T_d3412826_0f73_11eb_8198_0242ac1c0002level0_row8\" class=\"row_heading level0 row8\" >8</th>\n",
              "                        <td id=\"T_d3412826_0f73_11eb_8198_0242ac1c0002row8_col0\" class=\"data row8 col0\" >High Cardinality Features </td>\n",
              "                        <td id=\"T_d3412826_0f73_11eb_8198_0242ac1c0002row8_col1\" class=\"data row8 col1\" >False</td>\n",
              "            </tr>\n",
              "            <tr>\n",
              "                        <th id=\"T_d3412826_0f73_11eb_8198_0242ac1c0002level0_row9\" class=\"row_heading level0 row9\" >9</th>\n",
              "                        <td id=\"T_d3412826_0f73_11eb_8198_0242ac1c0002row9_col0\" class=\"data row9 col0\" >High Cardinality Method </td>\n",
              "                        <td id=\"T_d3412826_0f73_11eb_8198_0242ac1c0002row9_col1\" class=\"data row9 col1\" >None</td>\n",
              "            </tr>\n",
              "            <tr>\n",
              "                        <th id=\"T_d3412826_0f73_11eb_8198_0242ac1c0002level0_row10\" class=\"row_heading level0 row10\" >10</th>\n",
              "                        <td id=\"T_d3412826_0f73_11eb_8198_0242ac1c0002row10_col0\" class=\"data row10 col0\" >Sampled Data</td>\n",
              "                        <td id=\"T_d3412826_0f73_11eb_8198_0242ac1c0002row10_col1\" class=\"data row10 col1\" >(19999, 785)</td>\n",
              "            </tr>\n",
              "            <tr>\n",
              "                        <th id=\"T_d3412826_0f73_11eb_8198_0242ac1c0002level0_row11\" class=\"row_heading level0 row11\" >11</th>\n",
              "                        <td id=\"T_d3412826_0f73_11eb_8198_0242ac1c0002row11_col0\" class=\"data row11 col0\" >Transformed Train Set</td>\n",
              "                        <td id=\"T_d3412826_0f73_11eb_8198_0242ac1c0002row11_col1\" class=\"data row11 col1\" >(13999, 1382)</td>\n",
              "            </tr>\n",
              "            <tr>\n",
              "                        <th id=\"T_d3412826_0f73_11eb_8198_0242ac1c0002level0_row12\" class=\"row_heading level0 row12\" >12</th>\n",
              "                        <td id=\"T_d3412826_0f73_11eb_8198_0242ac1c0002row12_col0\" class=\"data row12 col0\" >Transformed Test Set</td>\n",
              "                        <td id=\"T_d3412826_0f73_11eb_8198_0242ac1c0002row12_col1\" class=\"data row12 col1\" >(6000, 1382)</td>\n",
              "            </tr>\n",
              "            <tr>\n",
              "                        <th id=\"T_d3412826_0f73_11eb_8198_0242ac1c0002level0_row13\" class=\"row_heading level0 row13\" >13</th>\n",
              "                        <td id=\"T_d3412826_0f73_11eb_8198_0242ac1c0002row13_col0\" class=\"data row13 col0\" >Numeric Imputer </td>\n",
              "                        <td id=\"T_d3412826_0f73_11eb_8198_0242ac1c0002row13_col1\" class=\"data row13 col1\" >mean</td>\n",
              "            </tr>\n",
              "            <tr>\n",
              "                        <th id=\"T_d3412826_0f73_11eb_8198_0242ac1c0002level0_row14\" class=\"row_heading level0 row14\" >14</th>\n",
              "                        <td id=\"T_d3412826_0f73_11eb_8198_0242ac1c0002row14_col0\" class=\"data row14 col0\" >Categorical Imputer </td>\n",
              "                        <td id=\"T_d3412826_0f73_11eb_8198_0242ac1c0002row14_col1\" class=\"data row14 col1\" >constant</td>\n",
              "            </tr>\n",
              "            <tr>\n",
              "                        <th id=\"T_d3412826_0f73_11eb_8198_0242ac1c0002level0_row15\" class=\"row_heading level0 row15\" >15</th>\n",
              "                        <td id=\"T_d3412826_0f73_11eb_8198_0242ac1c0002row15_col0\" class=\"data row15 col0\" >Normalize </td>\n",
              "                        <td id=\"T_d3412826_0f73_11eb_8198_0242ac1c0002row15_col1\" class=\"data row15 col1\" >False</td>\n",
              "            </tr>\n",
              "            <tr>\n",
              "                        <th id=\"T_d3412826_0f73_11eb_8198_0242ac1c0002level0_row16\" class=\"row_heading level0 row16\" >16</th>\n",
              "                        <td id=\"T_d3412826_0f73_11eb_8198_0242ac1c0002row16_col0\" class=\"data row16 col0\" >Normalize Method </td>\n",
              "                        <td id=\"T_d3412826_0f73_11eb_8198_0242ac1c0002row16_col1\" class=\"data row16 col1\" >None</td>\n",
              "            </tr>\n",
              "            <tr>\n",
              "                        <th id=\"T_d3412826_0f73_11eb_8198_0242ac1c0002level0_row17\" class=\"row_heading level0 row17\" >17</th>\n",
              "                        <td id=\"T_d3412826_0f73_11eb_8198_0242ac1c0002row17_col0\" class=\"data row17 col0\" >Transformation </td>\n",
              "                        <td id=\"T_d3412826_0f73_11eb_8198_0242ac1c0002row17_col1\" class=\"data row17 col1\" >False</td>\n",
              "            </tr>\n",
              "            <tr>\n",
              "                        <th id=\"T_d3412826_0f73_11eb_8198_0242ac1c0002level0_row18\" class=\"row_heading level0 row18\" >18</th>\n",
              "                        <td id=\"T_d3412826_0f73_11eb_8198_0242ac1c0002row18_col0\" class=\"data row18 col0\" >Transformation Method </td>\n",
              "                        <td id=\"T_d3412826_0f73_11eb_8198_0242ac1c0002row18_col1\" class=\"data row18 col1\" >None</td>\n",
              "            </tr>\n",
              "            <tr>\n",
              "                        <th id=\"T_d3412826_0f73_11eb_8198_0242ac1c0002level0_row19\" class=\"row_heading level0 row19\" >19</th>\n",
              "                        <td id=\"T_d3412826_0f73_11eb_8198_0242ac1c0002row19_col0\" class=\"data row19 col0\" >PCA </td>\n",
              "                        <td id=\"T_d3412826_0f73_11eb_8198_0242ac1c0002row19_col1\" class=\"data row19 col1\" >False</td>\n",
              "            </tr>\n",
              "            <tr>\n",
              "                        <th id=\"T_d3412826_0f73_11eb_8198_0242ac1c0002level0_row20\" class=\"row_heading level0 row20\" >20</th>\n",
              "                        <td id=\"T_d3412826_0f73_11eb_8198_0242ac1c0002row20_col0\" class=\"data row20 col0\" >PCA Method </td>\n",
              "                        <td id=\"T_d3412826_0f73_11eb_8198_0242ac1c0002row20_col1\" class=\"data row20 col1\" >None</td>\n",
              "            </tr>\n",
              "            <tr>\n",
              "                        <th id=\"T_d3412826_0f73_11eb_8198_0242ac1c0002level0_row21\" class=\"row_heading level0 row21\" >21</th>\n",
              "                        <td id=\"T_d3412826_0f73_11eb_8198_0242ac1c0002row21_col0\" class=\"data row21 col0\" >PCA Components </td>\n",
              "                        <td id=\"T_d3412826_0f73_11eb_8198_0242ac1c0002row21_col1\" class=\"data row21 col1\" >None</td>\n",
              "            </tr>\n",
              "            <tr>\n",
              "                        <th id=\"T_d3412826_0f73_11eb_8198_0242ac1c0002level0_row22\" class=\"row_heading level0 row22\" >22</th>\n",
              "                        <td id=\"T_d3412826_0f73_11eb_8198_0242ac1c0002row22_col0\" class=\"data row22 col0\" >Ignore Low Variance </td>\n",
              "                        <td id=\"T_d3412826_0f73_11eb_8198_0242ac1c0002row22_col1\" class=\"data row22 col1\" >False</td>\n",
              "            </tr>\n",
              "            <tr>\n",
              "                        <th id=\"T_d3412826_0f73_11eb_8198_0242ac1c0002level0_row23\" class=\"row_heading level0 row23\" >23</th>\n",
              "                        <td id=\"T_d3412826_0f73_11eb_8198_0242ac1c0002row23_col0\" class=\"data row23 col0\" >Combine Rare Levels </td>\n",
              "                        <td id=\"T_d3412826_0f73_11eb_8198_0242ac1c0002row23_col1\" class=\"data row23 col1\" >False</td>\n",
              "            </tr>\n",
              "            <tr>\n",
              "                        <th id=\"T_d3412826_0f73_11eb_8198_0242ac1c0002level0_row24\" class=\"row_heading level0 row24\" >24</th>\n",
              "                        <td id=\"T_d3412826_0f73_11eb_8198_0242ac1c0002row24_col0\" class=\"data row24 col0\" >Rare Level Threshold </td>\n",
              "                        <td id=\"T_d3412826_0f73_11eb_8198_0242ac1c0002row24_col1\" class=\"data row24 col1\" >None</td>\n",
              "            </tr>\n",
              "            <tr>\n",
              "                        <th id=\"T_d3412826_0f73_11eb_8198_0242ac1c0002level0_row25\" class=\"row_heading level0 row25\" >25</th>\n",
              "                        <td id=\"T_d3412826_0f73_11eb_8198_0242ac1c0002row25_col0\" class=\"data row25 col0\" >Numeric Binning </td>\n",
              "                        <td id=\"T_d3412826_0f73_11eb_8198_0242ac1c0002row25_col1\" class=\"data row25 col1\" >False</td>\n",
              "            </tr>\n",
              "            <tr>\n",
              "                        <th id=\"T_d3412826_0f73_11eb_8198_0242ac1c0002level0_row26\" class=\"row_heading level0 row26\" >26</th>\n",
              "                        <td id=\"T_d3412826_0f73_11eb_8198_0242ac1c0002row26_col0\" class=\"data row26 col0\" >Remove Outliers </td>\n",
              "                        <td id=\"T_d3412826_0f73_11eb_8198_0242ac1c0002row26_col1\" class=\"data row26 col1\" >False</td>\n",
              "            </tr>\n",
              "            <tr>\n",
              "                        <th id=\"T_d3412826_0f73_11eb_8198_0242ac1c0002level0_row27\" class=\"row_heading level0 row27\" >27</th>\n",
              "                        <td id=\"T_d3412826_0f73_11eb_8198_0242ac1c0002row27_col0\" class=\"data row27 col0\" >Outliers Threshold </td>\n",
              "                        <td id=\"T_d3412826_0f73_11eb_8198_0242ac1c0002row27_col1\" class=\"data row27 col1\" >None</td>\n",
              "            </tr>\n",
              "            <tr>\n",
              "                        <th id=\"T_d3412826_0f73_11eb_8198_0242ac1c0002level0_row28\" class=\"row_heading level0 row28\" >28</th>\n",
              "                        <td id=\"T_d3412826_0f73_11eb_8198_0242ac1c0002row28_col0\" class=\"data row28 col0\" >Remove Multicollinearity </td>\n",
              "                        <td id=\"T_d3412826_0f73_11eb_8198_0242ac1c0002row28_col1\" class=\"data row28 col1\" >False</td>\n",
              "            </tr>\n",
              "            <tr>\n",
              "                        <th id=\"T_d3412826_0f73_11eb_8198_0242ac1c0002level0_row29\" class=\"row_heading level0 row29\" >29</th>\n",
              "                        <td id=\"T_d3412826_0f73_11eb_8198_0242ac1c0002row29_col0\" class=\"data row29 col0\" >Multicollinearity Threshold </td>\n",
              "                        <td id=\"T_d3412826_0f73_11eb_8198_0242ac1c0002row29_col1\" class=\"data row29 col1\" >None</td>\n",
              "            </tr>\n",
              "            <tr>\n",
              "                        <th id=\"T_d3412826_0f73_11eb_8198_0242ac1c0002level0_row30\" class=\"row_heading level0 row30\" >30</th>\n",
              "                        <td id=\"T_d3412826_0f73_11eb_8198_0242ac1c0002row30_col0\" class=\"data row30 col0\" >Clustering </td>\n",
              "                        <td id=\"T_d3412826_0f73_11eb_8198_0242ac1c0002row30_col1\" class=\"data row30 col1\" >False</td>\n",
              "            </tr>\n",
              "            <tr>\n",
              "                        <th id=\"T_d3412826_0f73_11eb_8198_0242ac1c0002level0_row31\" class=\"row_heading level0 row31\" >31</th>\n",
              "                        <td id=\"T_d3412826_0f73_11eb_8198_0242ac1c0002row31_col0\" class=\"data row31 col0\" >Clustering Iteration </td>\n",
              "                        <td id=\"T_d3412826_0f73_11eb_8198_0242ac1c0002row31_col1\" class=\"data row31 col1\" >None</td>\n",
              "            </tr>\n",
              "            <tr>\n",
              "                        <th id=\"T_d3412826_0f73_11eb_8198_0242ac1c0002level0_row32\" class=\"row_heading level0 row32\" >32</th>\n",
              "                        <td id=\"T_d3412826_0f73_11eb_8198_0242ac1c0002row32_col0\" class=\"data row32 col0\" >Polynomial Features </td>\n",
              "                        <td id=\"T_d3412826_0f73_11eb_8198_0242ac1c0002row32_col1\" class=\"data row32 col1\" >False</td>\n",
              "            </tr>\n",
              "            <tr>\n",
              "                        <th id=\"T_d3412826_0f73_11eb_8198_0242ac1c0002level0_row33\" class=\"row_heading level0 row33\" >33</th>\n",
              "                        <td id=\"T_d3412826_0f73_11eb_8198_0242ac1c0002row33_col0\" class=\"data row33 col0\" >Polynomial Degree </td>\n",
              "                        <td id=\"T_d3412826_0f73_11eb_8198_0242ac1c0002row33_col1\" class=\"data row33 col1\" >None</td>\n",
              "            </tr>\n",
              "            <tr>\n",
              "                        <th id=\"T_d3412826_0f73_11eb_8198_0242ac1c0002level0_row34\" class=\"row_heading level0 row34\" >34</th>\n",
              "                        <td id=\"T_d3412826_0f73_11eb_8198_0242ac1c0002row34_col0\" class=\"data row34 col0\" >Trignometry Features </td>\n",
              "                        <td id=\"T_d3412826_0f73_11eb_8198_0242ac1c0002row34_col1\" class=\"data row34 col1\" >False</td>\n",
              "            </tr>\n",
              "            <tr>\n",
              "                        <th id=\"T_d3412826_0f73_11eb_8198_0242ac1c0002level0_row35\" class=\"row_heading level0 row35\" >35</th>\n",
              "                        <td id=\"T_d3412826_0f73_11eb_8198_0242ac1c0002row35_col0\" class=\"data row35 col0\" >Polynomial Threshold </td>\n",
              "                        <td id=\"T_d3412826_0f73_11eb_8198_0242ac1c0002row35_col1\" class=\"data row35 col1\" >None</td>\n",
              "            </tr>\n",
              "            <tr>\n",
              "                        <th id=\"T_d3412826_0f73_11eb_8198_0242ac1c0002level0_row36\" class=\"row_heading level0 row36\" >36</th>\n",
              "                        <td id=\"T_d3412826_0f73_11eb_8198_0242ac1c0002row36_col0\" class=\"data row36 col0\" >Group Features </td>\n",
              "                        <td id=\"T_d3412826_0f73_11eb_8198_0242ac1c0002row36_col1\" class=\"data row36 col1\" >False</td>\n",
              "            </tr>\n",
              "            <tr>\n",
              "                        <th id=\"T_d3412826_0f73_11eb_8198_0242ac1c0002level0_row37\" class=\"row_heading level0 row37\" >37</th>\n",
              "                        <td id=\"T_d3412826_0f73_11eb_8198_0242ac1c0002row37_col0\" class=\"data row37 col0\" >Feature Selection </td>\n",
              "                        <td id=\"T_d3412826_0f73_11eb_8198_0242ac1c0002row37_col1\" class=\"data row37 col1\" >False</td>\n",
              "            </tr>\n",
              "            <tr>\n",
              "                        <th id=\"T_d3412826_0f73_11eb_8198_0242ac1c0002level0_row38\" class=\"row_heading level0 row38\" >38</th>\n",
              "                        <td id=\"T_d3412826_0f73_11eb_8198_0242ac1c0002row38_col0\" class=\"data row38 col0\" >Features Selection Threshold </td>\n",
              "                        <td id=\"T_d3412826_0f73_11eb_8198_0242ac1c0002row38_col1\" class=\"data row38 col1\" >None</td>\n",
              "            </tr>\n",
              "            <tr>\n",
              "                        <th id=\"T_d3412826_0f73_11eb_8198_0242ac1c0002level0_row39\" class=\"row_heading level0 row39\" >39</th>\n",
              "                        <td id=\"T_d3412826_0f73_11eb_8198_0242ac1c0002row39_col0\" class=\"data row39 col0\" >Feature Interaction </td>\n",
              "                        <td id=\"T_d3412826_0f73_11eb_8198_0242ac1c0002row39_col1\" class=\"data row39 col1\" >False</td>\n",
              "            </tr>\n",
              "            <tr>\n",
              "                        <th id=\"T_d3412826_0f73_11eb_8198_0242ac1c0002level0_row40\" class=\"row_heading level0 row40\" >40</th>\n",
              "                        <td id=\"T_d3412826_0f73_11eb_8198_0242ac1c0002row40_col0\" class=\"data row40 col0\" >Feature Ratio </td>\n",
              "                        <td id=\"T_d3412826_0f73_11eb_8198_0242ac1c0002row40_col1\" class=\"data row40 col1\" >False</td>\n",
              "            </tr>\n",
              "            <tr>\n",
              "                        <th id=\"T_d3412826_0f73_11eb_8198_0242ac1c0002level0_row41\" class=\"row_heading level0 row41\" >41</th>\n",
              "                        <td id=\"T_d3412826_0f73_11eb_8198_0242ac1c0002row41_col0\" class=\"data row41 col0\" >Interaction Threshold </td>\n",
              "                        <td id=\"T_d3412826_0f73_11eb_8198_0242ac1c0002row41_col1\" class=\"data row41 col1\" >None</td>\n",
              "            </tr>\n",
              "            <tr>\n",
              "                        <th id=\"T_d3412826_0f73_11eb_8198_0242ac1c0002level0_row42\" class=\"row_heading level0 row42\" >42</th>\n",
              "                        <td id=\"T_d3412826_0f73_11eb_8198_0242ac1c0002row42_col0\" class=\"data row42 col0\" >Fix Imbalance</td>\n",
              "                        <td id=\"T_d3412826_0f73_11eb_8198_0242ac1c0002row42_col1\" class=\"data row42 col1\" >False</td>\n",
              "            </tr>\n",
              "            <tr>\n",
              "                        <th id=\"T_d3412826_0f73_11eb_8198_0242ac1c0002level0_row43\" class=\"row_heading level0 row43\" >43</th>\n",
              "                        <td id=\"T_d3412826_0f73_11eb_8198_0242ac1c0002row43_col0\" class=\"data row43 col0\" >Fix Imbalance Method</td>\n",
              "                        <td id=\"T_d3412826_0f73_11eb_8198_0242ac1c0002row43_col1\" class=\"data row43 col1\" >SMOTE</td>\n",
              "            </tr>\n",
              "    </tbody></table>"
            ],
            "text/plain": [
              "<pandas.io.formats.style.Styler at 0x7f4c68a32470>"
            ]
          },
          "metadata": {
            "tags": []
          }
        }
      ]
    },
    {
      "cell_type": "markdown",
      "metadata": {
        "id": "7lDgn_sHCIdh"
      },
      "source": [
        "Comparing all models to evaluate performance is the recommended starting point for modeling once the setup is completed (unless you exactly know what kind of model you need, which is often not the case). This function trains all models in the model library and scores them using stratified cross validation for metric evaluation. The output prints a score grid that shows average Accuracy, Recall, Precision, F1 and Kappa accross the folds (10 by default) of all the available models in the model library."
      ]
    },
    {
      "cell_type": "code",
      "metadata": {
        "id": "Vty3RF5980zP",
        "outputId": "46b210d8-4ef9-4e6f-fef2-8e6e14a01d87",
        "colab": {
          "base_uri": "https://localhost:8080/",
          "height": 668,
          "referenced_widgets": [
            "9b3af8a7ad7141ce992852efd5cbcdcc",
            "9f31e27667874fbda9e38ef5d966cdbb",
            "260520f74fbb476bb96f1a2e282325d2"
          ]
        }
      },
      "source": [
        "compare_models(fold = 3)"
      ],
      "execution_count": null,
      "outputs": [
        {
          "output_type": "display_data",
          "data": {
            "application/vnd.jupyter.widget-view+json": {
              "model_id": "9b3af8a7ad7141ce992852efd5cbcdcc",
              "version_minor": 0,
              "version_major": 2
            },
            "text/plain": [
              "IntProgress(value=0, description='Processing: ', max=71)"
            ]
          },
          "metadata": {
            "tags": []
          }
        },
        {
          "output_type": "display_data",
          "data": {
            "text/html": [
              "<div>\n",
              "<style scoped>\n",
              "    .dataframe tbody tr th:only-of-type {\n",
              "        vertical-align: middle;\n",
              "    }\n",
              "\n",
              "    .dataframe tbody tr th {\n",
              "        vertical-align: top;\n",
              "    }\n",
              "\n",
              "    .dataframe thead th {\n",
              "        text-align: right;\n",
              "    }\n",
              "</style>\n",
              "<table border=\"1\" class=\"dataframe\">\n",
              "  <thead>\n",
              "    <tr style=\"text-align: right;\">\n",
              "      <th></th>\n",
              "      <th></th>\n",
              "      <th></th>\n",
              "    </tr>\n",
              "    <tr>\n",
              "      <th></th>\n",
              "      <th></th>\n",
              "      <th></th>\n",
              "    </tr>\n",
              "  </thead>\n",
              "  <tbody>\n",
              "    <tr>\n",
              "      <th>Initiated</th>\n",
              "      <td>. . . . . . . . . . . . . . . . . .</td>\n",
              "      <td>06:14:43</td>\n",
              "    </tr>\n",
              "    <tr>\n",
              "      <th>Status</th>\n",
              "      <td>. . . . . . . . . . . . . . . . . .</td>\n",
              "      <td>Fitting Fold 1 of 3</td>\n",
              "    </tr>\n",
              "    <tr>\n",
              "      <th>Estimator</th>\n",
              "      <td>. . . . . . . . . . . . . . . . . .</td>\n",
              "      <td>CatBoost Classifier</td>\n",
              "    </tr>\n",
              "    <tr>\n",
              "      <th>ETC</th>\n",
              "      <td>. . . . . . . . . . . . . . . . . .</td>\n",
              "      <td>Calculating ETC</td>\n",
              "    </tr>\n",
              "  </tbody>\n",
              "</table>\n",
              "</div>"
            ],
            "text/plain": [
              "                                                                   \n",
              "                                                                   \n",
              "Initiated  . . . . . . . . . . . . . . . . . .             06:14:43\n",
              "Status     . . . . . . . . . . . . . . . . . .  Fitting Fold 1 of 3\n",
              "Estimator  . . . . . . . . . . . . . . . . . .  CatBoost Classifier\n",
              "ETC        . . . . . . . . . . . . . . . . . .      Calculating ETC"
            ]
          },
          "metadata": {
            "tags": []
          }
        },
        {
          "output_type": "display_data",
          "data": {
            "text/html": [
              "<div>\n",
              "<style scoped>\n",
              "    .dataframe tbody tr th:only-of-type {\n",
              "        vertical-align: middle;\n",
              "    }\n",
              "\n",
              "    .dataframe tbody tr th {\n",
              "        vertical-align: top;\n",
              "    }\n",
              "\n",
              "    .dataframe thead th {\n",
              "        text-align: right;\n",
              "    }\n",
              "</style>\n",
              "<table border=\"1\" class=\"dataframe\">\n",
              "  <thead>\n",
              "    <tr style=\"text-align: right;\">\n",
              "      <th></th>\n",
              "      <th>Model</th>\n",
              "      <th>Accuracy</th>\n",
              "      <th>AUC</th>\n",
              "      <th>Recall</th>\n",
              "      <th>Prec.</th>\n",
              "      <th>F1</th>\n",
              "      <th>Kappa</th>\n",
              "      <th>MCC</th>\n",
              "      <th>TT (Sec)</th>\n",
              "    </tr>\n",
              "  </thead>\n",
              "  <tbody>\n",
              "    <tr>\n",
              "      <th>0</th>\n",
              "      <td>Light Gradient Boosting Machine</td>\n",
              "      <td>0.9549</td>\n",
              "      <td>0.0</td>\n",
              "      <td>0.9545</td>\n",
              "      <td>0.9551</td>\n",
              "      <td>0.9549</td>\n",
              "      <td>0.9498</td>\n",
              "      <td>0.9498</td>\n",
              "      <td>51.8997</td>\n",
              "    </tr>\n",
              "    <tr>\n",
              "      <th>1</th>\n",
              "      <td>Extra Trees Classifier</td>\n",
              "      <td>0.9513</td>\n",
              "      <td>0.0</td>\n",
              "      <td>0.9506</td>\n",
              "      <td>0.9514</td>\n",
              "      <td>0.9512</td>\n",
              "      <td>0.9458</td>\n",
              "      <td>0.9459</td>\n",
              "      <td>4.2594</td>\n",
              "    </tr>\n",
              "    <tr>\n",
              "      <th>2</th>\n",
              "      <td>K Neighbors Classifier</td>\n",
              "      <td>0.9435</td>\n",
              "      <td>0.0</td>\n",
              "      <td>0.9423</td>\n",
              "      <td>0.9446</td>\n",
              "      <td>0.9433</td>\n",
              "      <td>0.9372</td>\n",
              "      <td>0.9373</td>\n",
              "      <td>1.9359</td>\n",
              "    </tr>\n",
              "    <tr>\n",
              "      <th>3</th>\n",
              "      <td>Gradient Boosting Classifier</td>\n",
              "      <td>0.9269</td>\n",
              "      <td>0.0</td>\n",
              "      <td>0.9261</td>\n",
              "      <td>0.9272</td>\n",
              "      <td>0.9268</td>\n",
              "      <td>0.9188</td>\n",
              "      <td>0.9188</td>\n",
              "      <td>415.5192</td>\n",
              "    </tr>\n",
              "    <tr>\n",
              "      <th>4</th>\n",
              "      <td>Extreme Gradient Boosting</td>\n",
              "      <td>0.9264</td>\n",
              "      <td>0.0</td>\n",
              "      <td>0.9254</td>\n",
              "      <td>0.9266</td>\n",
              "      <td>0.9263</td>\n",
              "      <td>0.9182</td>\n",
              "      <td>0.9183</td>\n",
              "      <td>195.1934</td>\n",
              "    </tr>\n",
              "    <tr>\n",
              "      <th>5</th>\n",
              "      <td>Random Forest Classifier</td>\n",
              "      <td>0.9041</td>\n",
              "      <td>0.0</td>\n",
              "      <td>0.9022</td>\n",
              "      <td>0.9044</td>\n",
              "      <td>0.9037</td>\n",
              "      <td>0.8933</td>\n",
              "      <td>0.8935</td>\n",
              "      <td>0.4491</td>\n",
              "    </tr>\n",
              "    <tr>\n",
              "      <th>6</th>\n",
              "      <td>Logistic Regression</td>\n",
              "      <td>0.8717</td>\n",
              "      <td>0.0</td>\n",
              "      <td>0.8693</td>\n",
              "      <td>0.8717</td>\n",
              "      <td>0.8714</td>\n",
              "      <td>0.8574</td>\n",
              "      <td>0.8574</td>\n",
              "      <td>8.4390</td>\n",
              "    </tr>\n",
              "    <tr>\n",
              "      <th>7</th>\n",
              "      <td>SVM - Linear Kernel</td>\n",
              "      <td>0.8640</td>\n",
              "      <td>0.0</td>\n",
              "      <td>0.8619</td>\n",
              "      <td>0.8708</td>\n",
              "      <td>0.8645</td>\n",
              "      <td>0.8488</td>\n",
              "      <td>0.8496</td>\n",
              "      <td>11.6303</td>\n",
              "    </tr>\n",
              "    <tr>\n",
              "      <th>8</th>\n",
              "      <td>Linear Discriminant Analysis</td>\n",
              "      <td>0.8491</td>\n",
              "      <td>0.0</td>\n",
              "      <td>0.8469</td>\n",
              "      <td>0.8517</td>\n",
              "      <td>0.8489</td>\n",
              "      <td>0.8322</td>\n",
              "      <td>0.8325</td>\n",
              "      <td>7.4273</td>\n",
              "    </tr>\n",
              "    <tr>\n",
              "      <th>9</th>\n",
              "      <td>Ridge Classifier</td>\n",
              "      <td>0.8372</td>\n",
              "      <td>0.0</td>\n",
              "      <td>0.8338</td>\n",
              "      <td>0.8386</td>\n",
              "      <td>0.8355</td>\n",
              "      <td>0.8189</td>\n",
              "      <td>0.8195</td>\n",
              "      <td>0.9354</td>\n",
              "    </tr>\n",
              "    <tr>\n",
              "      <th>10</th>\n",
              "      <td>Decision Tree Classifier</td>\n",
              "      <td>0.8064</td>\n",
              "      <td>0.0</td>\n",
              "      <td>0.8032</td>\n",
              "      <td>0.8065</td>\n",
              "      <td>0.8062</td>\n",
              "      <td>0.7848</td>\n",
              "      <td>0.7849</td>\n",
              "      <td>2.2232</td>\n",
              "    </tr>\n",
              "    <tr>\n",
              "      <th>11</th>\n",
              "      <td>Quadratic Discriminant Analysis</td>\n",
              "      <td>0.6382</td>\n",
              "      <td>0.0</td>\n",
              "      <td>0.6231</td>\n",
              "      <td>0.6625</td>\n",
              "      <td>0.6023</td>\n",
              "      <td>0.5971</td>\n",
              "      <td>0.6066</td>\n",
              "      <td>8.4331</td>\n",
              "    </tr>\n",
              "    <tr>\n",
              "      <th>12</th>\n",
              "      <td>Ada Boost Classifier</td>\n",
              "      <td>0.6217</td>\n",
              "      <td>0.0</td>\n",
              "      <td>0.6176</td>\n",
              "      <td>0.6278</td>\n",
              "      <td>0.6137</td>\n",
              "      <td>0.5794</td>\n",
              "      <td>0.5818</td>\n",
              "      <td>10.4676</td>\n",
              "    </tr>\n",
              "    <tr>\n",
              "      <th>13</th>\n",
              "      <td>Naive Bayes</td>\n",
              "      <td>0.5590</td>\n",
              "      <td>0.0</td>\n",
              "      <td>0.5486</td>\n",
              "      <td>0.6598</td>\n",
              "      <td>0.5200</td>\n",
              "      <td>0.5093</td>\n",
              "      <td>0.5249</td>\n",
              "      <td>0.2524</td>\n",
              "    </tr>\n",
              "  </tbody>\n",
              "</table>\n",
              "</div>"
            ],
            "text/plain": [
              "                              Model  Accuracy  AUC  Recall   Prec.      F1  \\\n",
              "0   Light Gradient Boosting Machine    0.9549  0.0  0.9545  0.9551  0.9549   \n",
              "1            Extra Trees Classifier    0.9513  0.0  0.9506  0.9514  0.9512   \n",
              "2            K Neighbors Classifier    0.9435  0.0  0.9423  0.9446  0.9433   \n",
              "3      Gradient Boosting Classifier    0.9269  0.0  0.9261  0.9272  0.9268   \n",
              "4         Extreme Gradient Boosting    0.9264  0.0  0.9254  0.9266  0.9263   \n",
              "5          Random Forest Classifier    0.9041  0.0  0.9022  0.9044  0.9037   \n",
              "6               Logistic Regression    0.8717  0.0  0.8693  0.8717  0.8714   \n",
              "7               SVM - Linear Kernel    0.8640  0.0  0.8619  0.8708  0.8645   \n",
              "8      Linear Discriminant Analysis    0.8491  0.0  0.8469  0.8517  0.8489   \n",
              "9                  Ridge Classifier    0.8372  0.0  0.8338  0.8386  0.8355   \n",
              "10         Decision Tree Classifier    0.8064  0.0  0.8032  0.8065  0.8062   \n",
              "11  Quadratic Discriminant Analysis    0.6382  0.0  0.6231  0.6625  0.6023   \n",
              "12             Ada Boost Classifier    0.6217  0.0  0.6176  0.6278  0.6137   \n",
              "13                      Naive Bayes    0.5590  0.0  0.5486  0.6598  0.5200   \n",
              "\n",
              "     Kappa     MCC  TT (Sec)  \n",
              "0   0.9498  0.9498   51.8997  \n",
              "1   0.9458  0.9459    4.2594  \n",
              "2   0.9372  0.9373    1.9359  \n",
              "3   0.9188  0.9188  415.5192  \n",
              "4   0.9182  0.9183  195.1934  \n",
              "5   0.8933  0.8935    0.4491  \n",
              "6   0.8574  0.8574    8.4390  \n",
              "7   0.8488  0.8496   11.6303  \n",
              "8   0.8322  0.8325    7.4273  \n",
              "9   0.8189  0.8195    0.9354  \n",
              "10  0.7848  0.7849    2.2232  \n",
              "11  0.5971  0.6066    8.4331  \n",
              "12  0.5794  0.5818   10.4676  \n",
              "13  0.5093  0.5249    0.2524  "
            ]
          },
          "metadata": {
            "tags": []
          }
        }
      ]
    },
    {
      "cell_type": "markdown",
      "metadata": {
        "id": "SIryuhGYDYZO"
      },
      "source": [
        "While compare_models() is a powerful function and often a starting point in any experiment, it does not return any trained models. PyCaret's recommended experiment workflow is to use compare_models() right after setup to evaluate top performing models and finalize a few candidates for continued experimentation. As such, the function that actually allows to you create a model is unimaginatively called create_model()."
      ]
    },
    {
      "cell_type": "markdown",
      "metadata": {
        "id": "bIFDwSzeCsDO"
      },
      "source": [
        "K Nearest Neighbors Classifier"
      ]
    },
    {
      "cell_type": "code",
      "metadata": {
        "id": "SrJ6hKZzCi2P"
      },
      "source": [
        "knn = create_model('knn')"
      ],
      "execution_count": null,
      "outputs": []
    },
    {
      "cell_type": "markdown",
      "metadata": {
        "id": "t-UzeCNSDGjU"
      },
      "source": [
        "Tune the model: When a model is created using the create_model() function it uses the default hyperparameters. In order to tune hyperparameters, the tune_model() function is used. This function automatically tunes the hyperparameters of a model on a pre-defined search space and scores it using stratified cross validation."
      ]
    },
    {
      "cell_type": "code",
      "metadata": {
        "id": "WFLtOvwGDFln"
      },
      "source": [
        "tuned_knn = tune_model(knn)"
      ],
      "execution_count": null,
      "outputs": []
    },
    {
      "cell_type": "markdown",
      "metadata": {
        "id": "BjrUnkiWDoJH"
      },
      "source": [
        "Plot the model. Data Visualization."
      ]
    },
    {
      "cell_type": "code",
      "metadata": {
        "id": "xLKnmxcQDruj"
      },
      "source": [
        "plot_model(tuned_knn, plot = 'confusion_matrix')"
      ],
      "execution_count": null,
      "outputs": []
    },
    {
      "cell_type": "code",
      "metadata": {
        "id": "qA7gauMnDydP"
      },
      "source": [
        "plot_model(tuned_knn, plot = 'class_report')"
      ],
      "execution_count": null,
      "outputs": []
    },
    {
      "cell_type": "code",
      "metadata": {
        "id": "GBFS-dF2D6-4"
      },
      "source": [
        "plot_model(tuned_knn, plot='error')"
      ],
      "execution_count": null,
      "outputs": []
    },
    {
      "cell_type": "markdown",
      "metadata": {
        "id": "xi2bF5hWEtit"
      },
      "source": [
        "Before finalizing the model, it is advisable to perform one final check by predicting the test/hold-out set and reviewing the evaluation metrics. If you look at the inforamtion text above, you will see that 30% of the data has been separated out as a test/hold-out sample. All of the evaluation metrics we have seen above are cross validated results based on the training set (70%) only. Now, using our final trained model stored in the tuned_knn variable we will predict against the hold-out sample and evaluate the metrics to see if they are materially different than the CV results."
      ]
    },
    {
      "cell_type": "code",
      "metadata": {
        "id": "eilkF_aEEe2Y"
      },
      "source": [
        "predict_model(tuned_knn);"
      ],
      "execution_count": null,
      "outputs": []
    },
    {
      "cell_type": "markdown",
      "metadata": {
        "id": "_s5vK5GiFDBB"
      },
      "source": [
        "Model finalization is the last step in the experiment."
      ]
    },
    {
      "cell_type": "code",
      "metadata": {
        "id": "0khvHJ9bFEzf"
      },
      "source": [
        "final_knn = finalize_model(tuned_knn)"
      ],
      "execution_count": null,
      "outputs": []
    },
    {
      "cell_type": "markdown",
      "metadata": {
        "id": "QZwXSlr9FlD-"
      },
      "source": [
        "We have now finished the experiment by finalizing the tuned_knn model which is now stored in the final_knn variable. This brings us to the end of our experiment, but one question is still to be asked: What happens when you have more new data to predict? Or what if you want to use this model in some other project? Do you have to go through the entire experiment again? The answer is no. We have the option of saving our trained models. PyCaret's inbuilt function save_model() allows you to save the model along with entire transformation pipeline for later use."
      ]
    },
    {
      "cell_type": "code",
      "metadata": {
        "id": "71cZTYkAFd0h"
      },
      "source": [
        "save_model(final_knn,'Final_KNN_Model_16Oct2020')"
      ],
      "execution_count": null,
      "outputs": []
    },
    {
      "cell_type": "markdown",
      "metadata": {
        "id": "YkYO9YU8GGU5"
      },
      "source": [
        "To load a saved model at a future date in the same or an alternative environment, we would use PyCaret's load_model() function and then easily apply the saved model on new unseen data for prediction."
      ]
    },
    {
      "cell_type": "code",
      "metadata": {
        "id": "NEYUORTmGAvV"
      },
      "source": [
        "saved_final_knn = load_model('Final_KNN_Model_16Oct2020')"
      ],
      "execution_count": null,
      "outputs": []
    },
    {
      "cell_type": "code",
      "metadata": {
        "id": "OExGlv7NGRoO"
      },
      "source": [
        "new_prediction = predict_model(saved_final_knn, data=df_test)\n",
        "new_prediction.head()"
      ],
      "execution_count": null,
      "outputs": []
    },
    {
      "cell_type": "markdown",
      "metadata": {
        "id": "ehrVZRQQFrlb"
      },
      "source": [
        "# **Can you try predicting the hand written digit using Logistic Regression?**"
      ]
    },
    {
      "cell_type": "markdown",
      "metadata": {
        "id": "XzTESrCPGFkd"
      },
      "source": [
        "Hints:\n",
        "1. You can use Logistic Regression algorithm from Scikit Learn\n",
        "\n",
        " -> from sklearn.linear_model import LogisticRegression\n",
        "\n",
        "2. You can use lr model from PyCaret\n",
        "\n",
        " -> lr = create_model('lr')"
      ]
    },
    {
      "cell_type": "code",
      "metadata": {
        "id": "cFeyikr7GvDy"
      },
      "source": [
        ""
      ],
      "execution_count": null,
      "outputs": []
    },
    {
      "cell_type": "markdown",
      "metadata": {
        "id": "hklGsMjYGoki"
      },
      "source": [
        "Free code for tutorial sponsored by **Yubo AI Labs**\n",
        "\n",
        "If you liked the content and want more:\n",
        "\n",
        "Give Yubo AI Labs a 5 star rating at: https://rb.gy/qsrkle\n",
        "\n",
        "Follow Yubo on Linkedin for latest updates on AI: https://www.linkedin.com/company/hellooyubo/\n",
        "\n",
        "Like and follow Yubo on FB: https://www.facebook.com/HelloYubo\n",
        "\n"
      ]
    }
  ]
}